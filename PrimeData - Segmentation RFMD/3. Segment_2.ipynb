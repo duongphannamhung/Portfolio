{
  "nbformat": 4,
  "nbformat_minor": 0,
  "metadata": {
    "colab": {
      "name": "segment_2.ipynb",
      "provenance": [],
      "collapsed_sections": [],
      "include_colab_link": true
    },
    "interpreter": {
      "hash": "380030d1298d5a27518acca789ff38fe82bbf2e68b73263de6a6bf23efb7704c"
    },
    "kernelspec": {
      "display_name": "Python 3",
      "language": "python",
      "name": "python3"
    },
    "language_info": {
      "codemirror_mode": {
        "name": "ipython",
        "version": 3
      },
      "file_extension": ".py",
      "mimetype": "text/x-python",
      "name": "python",
      "nbconvert_exporter": "python",
      "pygments_lexer": "ipython3",
      "version": "3.8.5"
    }
  },
  "cells": [
    {
      "cell_type": "markdown",
      "metadata": {
        "id": "view-in-github",
        "colab_type": "text"
      },
      "source": [
        "<a href=\"https://colab.research.google.com/github/duongphannamhung/Portfolio/blob/main/Segment_2.ipynb\" target=\"_parent\"><img src=\"https://colab.research.google.com/assets/colab-badge.svg\" alt=\"Open In Colab\"/></a>"
      ]
    },
    {
      "cell_type": "code",
      "metadata": {
        "id": "CesQvbT62Do3"
      },
      "source": [
        "import csv\n",
        "import pandas as pd\n",
        "import numpy as np\n",
        "import seaborn as sns\n",
        "import matplotlib.pyplot as plt\n",
        "import sklearn\n",
        "from sklearn.preprocessing import StandardScaler\n",
        "from sklearn.cluster import KMeans\n",
        "from sklearn.metrics import silhouette_score\n",
        "from scipy.cluster.hierarchy import linkage\n",
        "from scipy.cluster.hierarchy import dendrogram\n",
        "from scipy.cluster.hierarchy import cut_tree\n",
        "from datetime import datetime,date\n",
        "from kneed import KneeLocator\n",
        "from sklearn.decomposition import PCA\n",
        "from mpl_toolkits.mplot3d import Axes3D\n",
        "import plotly.express as px\n",
        "from plotly.offline import iplot\n",
        "import warnings\n",
        "warnings.filterwarnings(\"ignore\")"
      ],
      "execution_count": null,
      "outputs": []
    },
    {
      "cell_type": "markdown",
      "metadata": {
        "id": "u7yI4hQ_6LvZ"
      },
      "source": [
        "# **I. Import dữ liệu và preprocessing**"
      ]
    },
    {
      "cell_type": "markdown",
      "metadata": {
        "id": "FwpFPjvlzyqJ"
      },
      "source": [
        "Sau khi đã xử lý dữ liệu từ bộ master data, để có được data tính ra điểm của R, F, M , D: rfmd_database_final.csv.\n",
        "\n",
        "Trong đó:\n",
        "\n",
        "        R (Recency) là lần mua hàng gần nhất.\n",
        "\n",
        "        F (Frequency) là tần suất mua hàng trong một năm của từng khách hàng.\n",
        "\n",
        "        M (Monetary) là doanh thu theo mỗi id khách hàng mang lại.\n",
        "\n",
        "        D (Discount) là % giảm giá trên Monetary của từng id khách hàng.\n",
        "\n",
        "Nhóm quyết định chọn thêm yếu tố D, vì xét thấy fashion retailer này có chiến lược giảm giá lớn, là một yếu tố ảnh hưởng đến khả năng mua hàng của người end-users."
      ]
    },
    {
      "cell_type": "code",
      "metadata": {
        "id": "wRrcunKA2DpC"
      },
      "source": [
        "segment_2 = pd.read_csv(\"vip_seg2_0309_21h29.csv\")"
      ],
      "execution_count": null,
      "outputs": []
    },
    {
      "cell_type": "code",
      "metadata": {
        "id": "4gAGSUTozyqJ",
        "outputId": "c4cbd6da-d6b4-47fa-dc28-86d6b85a1282"
      },
      "source": [
        "segment_2"
      ],
      "execution_count": null,
      "outputs": [
        {
          "data": {
            "text/html": [
              "<div>\n",
              "<style scoped>\n",
              "    .dataframe tbody tr th:only-of-type {\n",
              "        vertical-align: middle;\n",
              "    }\n",
              "\n",
              "    .dataframe tbody tr th {\n",
              "        vertical-align: top;\n",
              "    }\n",
              "\n",
              "    .dataframe thead th {\n",
              "        text-align: right;\n",
              "    }\n",
              "</style>\n",
              "<table border=\"1\" class=\"dataframe\">\n",
              "  <thead>\n",
              "    <tr style=\"text-align: right;\">\n",
              "      <th></th>\n",
              "      <th>Unnamed: 0</th>\n",
              "      <th>anonymous_id</th>\n",
              "      <th>R</th>\n",
              "      <th>F</th>\n",
              "      <th>M</th>\n",
              "      <th>D</th>\n",
              "      <th>M1_x</th>\n",
              "      <th>Cluster_Id</th>\n",
              "      <th>Category</th>\n",
              "      <th>Percent_color</th>\n",
              "    </tr>\n",
              "  </thead>\n",
              "  <tbody>\n",
              "    <tr>\n",
              "      <th>0</th>\n",
              "      <td>0</td>\n",
              "      <td>1sq33LYIKEVf97ZyucyGOtQclWF</td>\n",
              "      <td>0.548105</td>\n",
              "      <td>2</td>\n",
              "      <td>0.96550</td>\n",
              "      <td>18</td>\n",
              "      <td>0.482750</td>\n",
              "      <td>3</td>\n",
              "      <td>1.0</td>\n",
              "      <td>-</td>\n",
              "    </tr>\n",
              "    <tr>\n",
              "      <th>1</th>\n",
              "      <td>1</td>\n",
              "      <td>1tPTUwuJRsecSA8ODfTyzuWoPFK</td>\n",
              "      <td>2.211605</td>\n",
              "      <td>2</td>\n",
              "      <td>1.36200</td>\n",
              "      <td>30</td>\n",
              "      <td>0.681000</td>\n",
              "      <td>3</td>\n",
              "      <td>3.0</td>\n",
              "      <td>50.00</td>\n",
              "    </tr>\n",
              "    <tr>\n",
              "      <th>2</th>\n",
              "      <td>2</td>\n",
              "      <td>1tPYlKb51rOp0QGWuBdS71h0ibV</td>\n",
              "      <td>6.185446</td>\n",
              "      <td>2</td>\n",
              "      <td>1.58100</td>\n",
              "      <td>4</td>\n",
              "      <td>0.790500</td>\n",
              "      <td>0</td>\n",
              "      <td>1.0</td>\n",
              "      <td>-</td>\n",
              "    </tr>\n",
              "    <tr>\n",
              "      <th>3</th>\n",
              "      <td>3</td>\n",
              "      <td>1tkPK0Tg5IsJHBxuwNTairEWeja</td>\n",
              "      <td>3.554125</td>\n",
              "      <td>4</td>\n",
              "      <td>1.11150</td>\n",
              "      <td>49</td>\n",
              "      <td>0.277875</td>\n",
              "      <td>2</td>\n",
              "      <td>1.0</td>\n",
              "      <td>100.00</td>\n",
              "    </tr>\n",
              "    <tr>\n",
              "      <th>4</th>\n",
              "      <td>4</td>\n",
              "      <td>1uceNzqLHAqWa5YBc3L6r0ZIUpr</td>\n",
              "      <td>9.678644</td>\n",
              "      <td>2</td>\n",
              "      <td>2.02500</td>\n",
              "      <td>9</td>\n",
              "      <td>1.012500</td>\n",
              "      <td>0</td>\n",
              "      <td>4.0</td>\n",
              "      <td>40.00</td>\n",
              "    </tr>\n",
              "    <tr>\n",
              "      <th>...</th>\n",
              "      <td>...</td>\n",
              "      <td>...</td>\n",
              "      <td>...</td>\n",
              "      <td>...</td>\n",
              "      <td>...</td>\n",
              "      <td>...</td>\n",
              "      <td>...</td>\n",
              "      <td>...</td>\n",
              "      <td>...</td>\n",
              "      <td>...</td>\n",
              "    </tr>\n",
              "    <tr>\n",
              "      <th>49761</th>\n",
              "      <td>49761</td>\n",
              "      <td>1uggrE98GDqCdIffKFLCZ0Y45u1</td>\n",
              "      <td>4.412301</td>\n",
              "      <td>2</td>\n",
              "      <td>1.49000</td>\n",
              "      <td>14</td>\n",
              "      <td>0.745000</td>\n",
              "      <td>3</td>\n",
              "      <td>2.0</td>\n",
              "      <td>50.00</td>\n",
              "    </tr>\n",
              "    <tr>\n",
              "      <th>49762</th>\n",
              "      <td>49762</td>\n",
              "      <td>1ugjeyddepbrgYE7lwAGSmiLTo1</td>\n",
              "      <td>5.211889</td>\n",
              "      <td>2</td>\n",
              "      <td>1.32050</td>\n",
              "      <td>0</td>\n",
              "      <td>0.660250</td>\n",
              "      <td>3</td>\n",
              "      <td>3.0</td>\n",
              "      <td>-</td>\n",
              "    </tr>\n",
              "    <tr>\n",
              "      <th>49763</th>\n",
              "      <td>49763</td>\n",
              "      <td>1ugoRBMinsE1cOWhaXOL9rwrPwS</td>\n",
              "      <td>0.309994</td>\n",
              "      <td>6</td>\n",
              "      <td>3.78275</td>\n",
              "      <td>7</td>\n",
              "      <td>0.630458</td>\n",
              "      <td>2</td>\n",
              "      <td>7.0</td>\n",
              "      <td>18.18</td>\n",
              "    </tr>\n",
              "    <tr>\n",
              "      <th>49764</th>\n",
              "      <td>49764</td>\n",
              "      <td>1ugvi6XeNFkwT8dNmL8T5m2enNL</td>\n",
              "      <td>6.446092</td>\n",
              "      <td>1</td>\n",
              "      <td>0.75000</td>\n",
              "      <td>0</td>\n",
              "      <td>0.750000</td>\n",
              "      <td>0</td>\n",
              "      <td>1.0</td>\n",
              "      <td>-</td>\n",
              "    </tr>\n",
              "    <tr>\n",
              "      <th>49765</th>\n",
              "      <td>49765</td>\n",
              "      <td>1ujjHhyKxoCPcjXUEtvcT6zJrM1</td>\n",
              "      <td>10.620834</td>\n",
              "      <td>1</td>\n",
              "      <td>0.49500</td>\n",
              "      <td>0</td>\n",
              "      <td>0.495000</td>\n",
              "      <td>0</td>\n",
              "      <td>1.0</td>\n",
              "      <td>-</td>\n",
              "    </tr>\n",
              "  </tbody>\n",
              "</table>\n",
              "<p>49766 rows × 10 columns</p>\n",
              "</div>"
            ],
            "text/plain": [
              "       Unnamed: 0                 anonymous_id          R  F        M   D  \\\n",
              "0               0  1sq33LYIKEVf97ZyucyGOtQclWF   0.548105  2  0.96550  18   \n",
              "1               1  1tPTUwuJRsecSA8ODfTyzuWoPFK   2.211605  2  1.36200  30   \n",
              "2               2  1tPYlKb51rOp0QGWuBdS71h0ibV   6.185446  2  1.58100   4   \n",
              "3               3  1tkPK0Tg5IsJHBxuwNTairEWeja   3.554125  4  1.11150  49   \n",
              "4               4  1uceNzqLHAqWa5YBc3L6r0ZIUpr   9.678644  2  2.02500   9   \n",
              "...           ...                          ...        ... ..      ...  ..   \n",
              "49761       49761  1uggrE98GDqCdIffKFLCZ0Y45u1   4.412301  2  1.49000  14   \n",
              "49762       49762  1ugjeyddepbrgYE7lwAGSmiLTo1   5.211889  2  1.32050   0   \n",
              "49763       49763  1ugoRBMinsE1cOWhaXOL9rwrPwS   0.309994  6  3.78275   7   \n",
              "49764       49764  1ugvi6XeNFkwT8dNmL8T5m2enNL   6.446092  1  0.75000   0   \n",
              "49765       49765  1ujjHhyKxoCPcjXUEtvcT6zJrM1  10.620834  1  0.49500   0   \n",
              "\n",
              "           M1_x  Cluster_Id  Category  Percent_color   \n",
              "0      0.482750           3       1.0            -     \n",
              "1      0.681000           3       3.0          50.00   \n",
              "2      0.790500           0       1.0            -     \n",
              "3      0.277875           2       1.0         100.00   \n",
              "4      1.012500           0       4.0          40.00   \n",
              "...         ...         ...       ...             ...  \n",
              "49761  0.745000           3       2.0          50.00   \n",
              "49762  0.660250           3       3.0            -     \n",
              "49763  0.630458           2       7.0          18.18   \n",
              "49764  0.750000           0       1.0            -     \n",
              "49765  0.495000           0       1.0            -     \n",
              "\n",
              "[49766 rows x 10 columns]"
            ]
          },
          "execution_count": 222,
          "metadata": {},
          "output_type": "execute_result"
        }
      ]
    },
    {
      "cell_type": "code",
      "metadata": {
        "id": "mF9vhTy2zyqK"
      },
      "source": [
        "segment_2 = segment_2[segment_2[' Percent_color '].isnull()==False]"
      ],
      "execution_count": null,
      "outputs": []
    },
    {
      "cell_type": "code",
      "metadata": {
        "id": "1nZsObT9zyqL"
      },
      "source": [
        "segment_2 = segment_2[(segment_2['Cluster_Id']==2)|(segment_2['Cluster_Id']==4)]"
      ],
      "execution_count": null,
      "outputs": []
    },
    {
      "cell_type": "code",
      "metadata": {
        "id": "lRrhsJIwzyqL",
        "outputId": "10dda945-1831-4ff9-fdbc-f39833790d86"
      },
      "source": [
        "segment_2.info()"
      ],
      "execution_count": null,
      "outputs": [
        {
          "name": "stdout",
          "output_type": "stream",
          "text": [
            "<class 'pandas.core.frame.DataFrame'>\n",
            "Int64Index: 8954 entries, 3 to 49763\n",
            "Data columns (total 10 columns):\n",
            " #   Column           Non-Null Count  Dtype  \n",
            "---  ------           --------------  -----  \n",
            " 0   Unnamed: 0       8954 non-null   int64  \n",
            " 1   anonymous_id     8954 non-null   object \n",
            " 2   R                8954 non-null   float64\n",
            " 3   F                8954 non-null   int64  \n",
            " 4   M                8954 non-null   float64\n",
            " 5   D                8954 non-null   int64  \n",
            " 6   M1_x             8954 non-null   float64\n",
            " 7   Cluster_Id       8954 non-null   int64  \n",
            " 8   Category         8954 non-null   float64\n",
            " 9    Percent_color   8954 non-null   object \n",
            "dtypes: float64(4), int64(4), object(2)\n",
            "memory usage: 769.5+ KB\n"
          ]
        }
      ]
    },
    {
      "cell_type": "code",
      "metadata": {
        "id": "8LJfrX4EzyqL"
      },
      "source": [
        "segment_2.columns = ['Unnamed: 0', 'anonymous_id', 'R', 'F', 'M', 'D', 'M1', 'Cluster_Id',\n",
        "       'diversity', 'outstanding']"
      ],
      "execution_count": null,
      "outputs": []
    },
    {
      "cell_type": "code",
      "metadata": {
        "id": "ASLAxlcczyqM"
      },
      "source": [
        "segment_2 = segment_2[['anonymous_id', 'R', 'F', 'M1', 'D', 'Cluster_Id',\n",
        "       'diversity','outstanding']]"
      ],
      "execution_count": null,
      "outputs": []
    },
    {
      "cell_type": "code",
      "metadata": {
        "id": "WAy2dNvpzyqM"
      },
      "source": [
        "segment_2 = segment_2.reset_index(drop=True)"
      ],
      "execution_count": null,
      "outputs": []
    },
    {
      "cell_type": "code",
      "metadata": {
        "id": "NDTUqdJ0zyqM"
      },
      "source": [
        "for i in range(len(segment_2['outstanding'])):\n",
        "    if segment_2['outstanding'][i] == ' -   ':\n",
        "        segment_2['outstanding'][i] = ' 0 '"
      ],
      "execution_count": null,
      "outputs": []
    },
    {
      "cell_type": "code",
      "metadata": {
        "id": "CNrC5gl7zyqM"
      },
      "source": [
        "for i in range(len(segment_2['outstanding'])):\n",
        "    segment_2['outstanding'][i] = segment_2['outstanding'][i].strip()"
      ],
      "execution_count": null,
      "outputs": []
    },
    {
      "cell_type": "code",
      "metadata": {
        "id": "cbVcyY_vzyqM"
      },
      "source": [
        "segment_2['outstanding'] = segment_2['outstanding'].astype(\"float\")"
      ],
      "execution_count": null,
      "outputs": []
    },
    {
      "cell_type": "code",
      "metadata": {
        "id": "zv2GCK3czyqN",
        "outputId": "64c20477-c65c-40d8-eadc-e591ee782ff2"
      },
      "source": [
        "segment_2.describe()"
      ],
      "execution_count": null,
      "outputs": [
        {
          "data": {
            "text/html": [
              "<div>\n",
              "<style scoped>\n",
              "    .dataframe tbody tr th:only-of-type {\n",
              "        vertical-align: middle;\n",
              "    }\n",
              "\n",
              "    .dataframe tbody tr th {\n",
              "        vertical-align: top;\n",
              "    }\n",
              "\n",
              "    .dataframe thead th {\n",
              "        text-align: right;\n",
              "    }\n",
              "</style>\n",
              "<table border=\"1\" class=\"dataframe\">\n",
              "  <thead>\n",
              "    <tr style=\"text-align: right;\">\n",
              "      <th></th>\n",
              "      <th>R</th>\n",
              "      <th>F</th>\n",
              "      <th>M1</th>\n",
              "      <th>D</th>\n",
              "      <th>Cluster_Id</th>\n",
              "      <th>diversity</th>\n",
              "      <th>outstanding</th>\n",
              "    </tr>\n",
              "  </thead>\n",
              "  <tbody>\n",
              "    <tr>\n",
              "      <th>count</th>\n",
              "      <td>8954.000000</td>\n",
              "      <td>8954.000000</td>\n",
              "      <td>8954.000000</td>\n",
              "      <td>8954.000000</td>\n",
              "      <td>8954.000000</td>\n",
              "      <td>8954.000000</td>\n",
              "      <td>8954.000000</td>\n",
              "    </tr>\n",
              "    <tr>\n",
              "      <th>mean</th>\n",
              "      <td>4.634944</td>\n",
              "      <td>3.026915</td>\n",
              "      <td>1.681913</td>\n",
              "      <td>13.444941</td>\n",
              "      <td>2.785347</td>\n",
              "      <td>4.598839</td>\n",
              "      <td>30.918428</td>\n",
              "    </tr>\n",
              "    <tr>\n",
              "      <th>std</th>\n",
              "      <td>2.637393</td>\n",
              "      <td>1.758149</td>\n",
              "      <td>1.105454</td>\n",
              "      <td>12.729534</td>\n",
              "      <td>0.976745</td>\n",
              "      <td>2.416875</td>\n",
              "      <td>24.924041</td>\n",
              "    </tr>\n",
              "    <tr>\n",
              "      <th>min</th>\n",
              "      <td>0.002766</td>\n",
              "      <td>1.000000</td>\n",
              "      <td>0.058000</td>\n",
              "      <td>0.000000</td>\n",
              "      <td>2.000000</td>\n",
              "      <td>1.000000</td>\n",
              "      <td>0.000000</td>\n",
              "    </tr>\n",
              "    <tr>\n",
              "      <th>25%</th>\n",
              "      <td>2.541354</td>\n",
              "      <td>1.000000</td>\n",
              "      <td>0.767504</td>\n",
              "      <td>5.000000</td>\n",
              "      <td>2.000000</td>\n",
              "      <td>3.000000</td>\n",
              "      <td>12.500000</td>\n",
              "    </tr>\n",
              "    <tr>\n",
              "      <th>50%</th>\n",
              "      <td>4.745359</td>\n",
              "      <td>3.000000</td>\n",
              "      <td>1.357687</td>\n",
              "      <td>10.000000</td>\n",
              "      <td>2.000000</td>\n",
              "      <td>4.000000</td>\n",
              "      <td>28.570000</td>\n",
              "    </tr>\n",
              "    <tr>\n",
              "      <th>75%</th>\n",
              "      <td>6.654680</td>\n",
              "      <td>4.000000</td>\n",
              "      <td>2.344906</td>\n",
              "      <td>20.000000</td>\n",
              "      <td>4.000000</td>\n",
              "      <td>6.000000</td>\n",
              "      <td>45.450000</td>\n",
              "    </tr>\n",
              "    <tr>\n",
              "      <th>max</th>\n",
              "      <td>12.119976</td>\n",
              "      <td>8.000000</td>\n",
              "      <td>5.393000</td>\n",
              "      <td>71.000000</td>\n",
              "      <td>4.000000</td>\n",
              "      <td>19.000000</td>\n",
              "      <td>100.000000</td>\n",
              "    </tr>\n",
              "  </tbody>\n",
              "</table>\n",
              "</div>"
            ],
            "text/plain": [
              "                 R            F           M1            D   Cluster_Id  \\\n",
              "count  8954.000000  8954.000000  8954.000000  8954.000000  8954.000000   \n",
              "mean      4.634944     3.026915     1.681913    13.444941     2.785347   \n",
              "std       2.637393     1.758149     1.105454    12.729534     0.976745   \n",
              "min       0.002766     1.000000     0.058000     0.000000     2.000000   \n",
              "25%       2.541354     1.000000     0.767504     5.000000     2.000000   \n",
              "50%       4.745359     3.000000     1.357687    10.000000     2.000000   \n",
              "75%       6.654680     4.000000     2.344906    20.000000     4.000000   \n",
              "max      12.119976     8.000000     5.393000    71.000000     4.000000   \n",
              "\n",
              "         diversity  outstanding  \n",
              "count  8954.000000  8954.000000  \n",
              "mean      4.598839    30.918428  \n",
              "std       2.416875    24.924041  \n",
              "min       1.000000     0.000000  \n",
              "25%       3.000000    12.500000  \n",
              "50%       4.000000    28.570000  \n",
              "75%       6.000000    45.450000  \n",
              "max      19.000000   100.000000  "
            ]
          },
          "execution_count": 240,
          "metadata": {},
          "output_type": "execute_result"
        }
      ]
    },
    {
      "cell_type": "code",
      "metadata": {
        "id": "G7jClwYQzyqN",
        "outputId": "44206bd9-2211-4e9e-c917-4d639c53fcfb"
      },
      "source": [
        "segment_2['outstanding'].unique()"
      ],
      "execution_count": null,
      "outputs": [
        {
          "data": {
            "text/plain": [
              "array([100.  ,  40.  ,  18.75,  66.67,   7.14,  27.27,  37.5 ,  28.57,\n",
              "         0.  ,  16.67,  60.  ,  25.  ,  20.  ,  14.29,  30.  ,  15.38,\n",
              "        29.41,  15.79,  50.  ,  26.67,  29.63,  53.85,  18.18,  36.36,\n",
              "        75.  ,  51.85,  33.33,  12.5 ,  22.22,  19.23,  45.45,  21.43,\n",
              "        35.71,  46.15,  41.67,  58.33,  23.08,  38.89,  11.11,  26.09,\n",
              "        62.5 ,  10.  ,  87.5 ,  55.  ,  71.43,  15.  ,   7.69,  11.76,\n",
              "        76.92,  44.44,   9.09,  57.14,  26.32,  70.  ,  42.86,  13.33,\n",
              "        36.84,  23.53,  63.16,  47.06,  15.15,  31.58,  52.38,  27.59,\n",
              "        30.77,  41.18,  38.46,  63.64,  80.  ,   6.67,   4.  ,  81.82,\n",
              "        17.65,  42.11,  17.39,  46.67,  26.92,  47.83,  35.29,  38.1 ,\n",
              "        32.  ,   5.88,   6.25,  85.71,  83.33,  57.89,  84.62,  77.78,\n",
              "        69.23,  55.56,  88.89,  53.33,  72.73,   5.56,  18.52,  35.  ,\n",
              "        30.3 ,  73.33,  54.55,  12.82,  22.73,  27.78,  15.63,  31.25,\n",
              "        30.43,  39.39,  17.86,   8.33,  13.89,  28.  ,   5.26,  21.05,\n",
              "        34.78,  29.17,  52.94,  40.91,  36.67,  35.42,  16.  ,  43.75,\n",
              "        13.16,   8.  ,  52.  ,   5.  ,   6.9 ,   4.35,  13.64,  17.24,\n",
              "        19.05,  34.38,  86.67,  20.83,  64.44,  14.81,  61.54,   9.52,\n",
              "        61.11,  54.17,  24.  ,  65.  ,  21.74,  29.03,  64.29,  92.86,\n",
              "        35.48,   4.55,   4.17,  70.59,  68.  ,  47.37,  37.93,  31.82,\n",
              "        10.53,  61.9 ,  52.63,  32.26,  90.  ,   8.7 ,  68.75,  80.95,\n",
              "        20.41,  32.14,  13.04,  56.25,  11.54,  90.91,  22.58,  47.62,\n",
              "        25.93,  72.22,  46.43,  76.47,  45.  ,  10.34,  12.9 ,  39.13,\n",
              "        34.48,  48.  ,  40.74,  21.88,  23.81,  48.65,  64.  ,  45.16,\n",
              "        58.82])"
            ]
          },
          "execution_count": 241,
          "metadata": {},
          "output_type": "execute_result"
        }
      ]
    },
    {
      "cell_type": "code",
      "metadata": {
        "id": "P69snK0gzyqN"
      },
      "source": [
        "segment_2 = segment_2[(segment_2['Cluster_Id']==2)|(segment_2['Cluster_Id']==4)]"
      ],
      "execution_count": null,
      "outputs": []
    },
    {
      "cell_type": "code",
      "metadata": {
        "id": "JAR9PPy2zyqN",
        "outputId": "4acb8c58-2836-4615-c929-981228d2abd3"
      },
      "source": [
        ""
      ],
      "execution_count": null,
      "outputs": [
        {
          "data": {
            "text/html": [
              "<div>\n",
              "<style scoped>\n",
              "    .dataframe tbody tr th:only-of-type {\n",
              "        vertical-align: middle;\n",
              "    }\n",
              "\n",
              "    .dataframe tbody tr th {\n",
              "        vertical-align: top;\n",
              "    }\n",
              "\n",
              "    .dataframe thead th {\n",
              "        text-align: right;\n",
              "    }\n",
              "</style>\n",
              "<table border=\"1\" class=\"dataframe\">\n",
              "  <thead>\n",
              "    <tr style=\"text-align: right;\">\n",
              "      <th></th>\n",
              "      <th>anonymous_id</th>\n",
              "      <th>R</th>\n",
              "      <th>F</th>\n",
              "      <th>M1</th>\n",
              "      <th>D</th>\n",
              "      <th>Cluster_Id</th>\n",
              "      <th>diversity</th>\n",
              "      <th>outstanding</th>\n",
              "    </tr>\n",
              "  </thead>\n",
              "  <tbody>\n",
              "    <tr>\n",
              "      <th>55</th>\n",
              "      <td>1uceQrGHM33D6Z8ZnwaFnXHsjMe</td>\n",
              "      <td>7.110406</td>\n",
              "      <td>3</td>\n",
              "      <td>0.422917</td>\n",
              "      <td>8</td>\n",
              "      <td>2</td>\n",
              "      <td>3.0</td>\n",
              "      <td>66.666667</td>\n",
              "    </tr>\n",
              "    <tr>\n",
              "      <th>78</th>\n",
              "      <td>1uceS78dEJcg3T0EgSAa3X8aVZw</td>\n",
              "      <td>7.078973</td>\n",
              "      <td>3</td>\n",
              "      <td>0.733167</td>\n",
              "      <td>28</td>\n",
              "      <td>2</td>\n",
              "      <td>7.0</td>\n",
              "      <td>37.500000</td>\n",
              "    </tr>\n",
              "    <tr>\n",
              "      <th>88</th>\n",
              "      <td>1uceSU6C9yTOSeu3K8voDDvRbAc</td>\n",
              "      <td>11.174346</td>\n",
              "      <td>5</td>\n",
              "      <td>0.319000</td>\n",
              "      <td>46</td>\n",
              "      <td>2</td>\n",
              "      <td>2.0</td>\n",
              "      <td>40.000000</td>\n",
              "    </tr>\n",
              "    <tr>\n",
              "      <th>91</th>\n",
              "      <td>1uceSm3mrtVxen1W8j4l4OWoHYQ</td>\n",
              "      <td>10.376704</td>\n",
              "      <td>4</td>\n",
              "      <td>0.487875</td>\n",
              "      <td>5</td>\n",
              "      <td>2</td>\n",
              "      <td>4.0</td>\n",
              "      <td>25.000000</td>\n",
              "    </tr>\n",
              "    <tr>\n",
              "      <th>93</th>\n",
              "      <td>1uceSwh8jmwlBkbUB8L6WvbGZBm</td>\n",
              "      <td>4.640254</td>\n",
              "      <td>3</td>\n",
              "      <td>0.753333</td>\n",
              "      <td>0</td>\n",
              "      <td>2</td>\n",
              "      <td>6.0</td>\n",
              "      <td>14.285714</td>\n",
              "    </tr>\n",
              "    <tr>\n",
              "      <th>...</th>\n",
              "      <td>...</td>\n",
              "      <td>...</td>\n",
              "      <td>...</td>\n",
              "      <td>...</td>\n",
              "      <td>...</td>\n",
              "      <td>...</td>\n",
              "      <td>...</td>\n",
              "      <td>...</td>\n",
              "    </tr>\n",
              "    <tr>\n",
              "      <th>49689</th>\n",
              "      <td>1ugSjTbR7ndqfa0GhMggBXupZCr</td>\n",
              "      <td>0.121588</td>\n",
              "      <td>3</td>\n",
              "      <td>0.523333</td>\n",
              "      <td>0</td>\n",
              "      <td>2</td>\n",
              "      <td>4.0</td>\n",
              "      <td>66.666667</td>\n",
              "    </tr>\n",
              "    <tr>\n",
              "      <th>49701</th>\n",
              "      <td>1ugU4GbZUU8nsoPn2QVXlSXSqOg</td>\n",
              "      <td>0.348961</td>\n",
              "      <td>2</td>\n",
              "      <td>2.755000</td>\n",
              "      <td>0</td>\n",
              "      <td>4</td>\n",
              "      <td>5.0</td>\n",
              "      <td>57.142857</td>\n",
              "    </tr>\n",
              "    <tr>\n",
              "      <th>49703</th>\n",
              "      <td>1ugU9wfqitX1Yg2RWG9hI8iZkZ3</td>\n",
              "      <td>0.540623</td>\n",
              "      <td>1</td>\n",
              "      <td>2.600000</td>\n",
              "      <td>10</td>\n",
              "      <td>4</td>\n",
              "      <td>2.0</td>\n",
              "      <td>0.000000</td>\n",
              "    </tr>\n",
              "    <tr>\n",
              "      <th>49730</th>\n",
              "      <td>1ugVUWtuNoiSsO7gy3OBkhmS0W1</td>\n",
              "      <td>0.408148</td>\n",
              "      <td>1</td>\n",
              "      <td>3.300000</td>\n",
              "      <td>8</td>\n",
              "      <td>4</td>\n",
              "      <td>1.0</td>\n",
              "      <td>0.000000</td>\n",
              "    </tr>\n",
              "    <tr>\n",
              "      <th>49763</th>\n",
              "      <td>1ugoRBMinsE1cOWhaXOL9rwrPwS</td>\n",
              "      <td>0.309994</td>\n",
              "      <td>6</td>\n",
              "      <td>0.630458</td>\n",
              "      <td>7</td>\n",
              "      <td>2</td>\n",
              "      <td>7.0</td>\n",
              "      <td>18.181818</td>\n",
              "    </tr>\n",
              "  </tbody>\n",
              "</table>\n",
              "<p>3570 rows × 8 columns</p>\n",
              "</div>"
            ],
            "text/plain": [
              "                      anonymous_id          R  F        M1   D  Cluster_Id  \\\n",
              "55     1uceQrGHM33D6Z8ZnwaFnXHsjMe   7.110406  3  0.422917   8           2   \n",
              "78     1uceS78dEJcg3T0EgSAa3X8aVZw   7.078973  3  0.733167  28           2   \n",
              "88     1uceSU6C9yTOSeu3K8voDDvRbAc  11.174346  5  0.319000  46           2   \n",
              "91     1uceSm3mrtVxen1W8j4l4OWoHYQ  10.376704  4  0.487875   5           2   \n",
              "93     1uceSwh8jmwlBkbUB8L6WvbGZBm   4.640254  3  0.753333   0           2   \n",
              "...                            ...        ... ..       ...  ..         ...   \n",
              "49689  1ugSjTbR7ndqfa0GhMggBXupZCr   0.121588  3  0.523333   0           2   \n",
              "49701  1ugU4GbZUU8nsoPn2QVXlSXSqOg   0.348961  2  2.755000   0           4   \n",
              "49703  1ugU9wfqitX1Yg2RWG9hI8iZkZ3   0.540623  1  2.600000  10           4   \n",
              "49730  1ugVUWtuNoiSsO7gy3OBkhmS0W1   0.408148  1  3.300000   8           4   \n",
              "49763  1ugoRBMinsE1cOWhaXOL9rwrPwS   0.309994  6  0.630458   7           2   \n",
              "\n",
              "       diversity  outstanding  \n",
              "55           3.0    66.666667  \n",
              "78           7.0    37.500000  \n",
              "88           2.0    40.000000  \n",
              "91           4.0    25.000000  \n",
              "93           6.0    14.285714  \n",
              "...          ...          ...  \n",
              "49689        4.0    66.666667  \n",
              "49701        5.0    57.142857  \n",
              "49703        2.0     0.000000  \n",
              "49730        1.0     0.000000  \n",
              "49763        7.0    18.181818  \n",
              "\n",
              "[3570 rows x 8 columns]"
            ]
          },
          "execution_count": 73,
          "metadata": {},
          "output_type": "execute_result"
        }
      ]
    },
    {
      "cell_type": "code",
      "metadata": {
        "id": "oJ4AlcEjzyqN",
        "outputId": "982876ac-681a-4515-bc79-c76ac051166f"
      },
      "source": [
        "fig = plt.figure()\n",
        "fig.patch.set_facecolor('white')\n",
        "sns.pairplot(segment_2[['diversity','outstanding']])"
      ],
      "execution_count": null,
      "outputs": [
        {
          "data": {
            "text/plain": [
              "<seaborn.axisgrid.PairGrid at 0x216adf8de80>"
            ]
          },
          "execution_count": 242,
          "metadata": {},
          "output_type": "execute_result"
        },
        {
          "data": {
            "text/plain": [
              "<Figure size 432x288 with 0 Axes>"
            ]
          },
          "metadata": {},
          "output_type": "display_data"
        },
        {
          "data": {
            "image/png": "[encoded data removed]",
            "text/plain": [
              "<Figure size 360x360 with 6 Axes>"
            ]
          },
          "metadata": {},
          "output_type": "display_data"
        }
      ]
    },
    {
      "cell_type": "code",
      "metadata": {
        "id": "PwuHTu7ozyqO",
        "outputId": "d2cf147f-daad-41b2-bbc8-d0fcccffcd39"
      },
      "source": [
        "fig, axs = plt.subplots(figsize=(9, 4), constrained_layout=True)\n",
        "sns.set(font_scale=2)\n",
        "# sns.boxplot(data = segment_2,  x = 'diversity',color = 'g')\n",
        "sns.boxplot(data = segment_2,  x = 'outstanding',color = 'b')"
      ],
      "execution_count": null,
      "outputs": [
        {
          "data": {
            "text/plain": [
              "<AxesSubplot:xlabel='outstanding'>"
            ]
          },
          "execution_count": 282,
          "metadata": {},
          "output_type": "execute_result"
        },
        {
          "data": {
            "image/png": "[encoded data removed]",
            "text/plain": [
              "<Figure size 648x288 with 1 Axes>"
            ]
          },
          "metadata": {},
          "output_type": "display_data"
        }
      ]
    },
    {
      "cell_type": "code",
      "metadata": {
        "id": "1N2Xbp67zyqO",
        "outputId": "5de6dcec-d1b7-4829-dd21-5dd551cb40bf"
      },
      "source": [
        "segment_2"
      ],
      "execution_count": null,
      "outputs": [
        {
          "data": {
            "text/html": [
              "<div>\n",
              "<style scoped>\n",
              "    .dataframe tbody tr th:only-of-type {\n",
              "        vertical-align: middle;\n",
              "    }\n",
              "\n",
              "    .dataframe tbody tr th {\n",
              "        vertical-align: top;\n",
              "    }\n",
              "\n",
              "    .dataframe thead th {\n",
              "        text-align: right;\n",
              "    }\n",
              "</style>\n",
              "<table border=\"1\" class=\"dataframe\">\n",
              "  <thead>\n",
              "    <tr style=\"text-align: right;\">\n",
              "      <th></th>\n",
              "      <th>anonymous_id</th>\n",
              "      <th>R</th>\n",
              "      <th>F</th>\n",
              "      <th>M1</th>\n",
              "      <th>D</th>\n",
              "      <th>Cluster_Id</th>\n",
              "      <th>diversity</th>\n",
              "      <th>outstanding</th>\n",
              "      <th>Cluster_segment2</th>\n",
              "    </tr>\n",
              "  </thead>\n",
              "  <tbody>\n",
              "    <tr>\n",
              "      <th>0</th>\n",
              "      <td>1tkPK0Tg5IsJHBxuwNTairEWeja</td>\n",
              "      <td>3.554125</td>\n",
              "      <td>4</td>\n",
              "      <td>0.277875</td>\n",
              "      <td>49</td>\n",
              "      <td>2</td>\n",
              "      <td>1.0</td>\n",
              "      <td>100.00</td>\n",
              "      <td>0</td>\n",
              "    </tr>\n",
              "    <tr>\n",
              "      <th>1</th>\n",
              "      <td>1uceOy0US96gp7G9YREqmk4xMWT</td>\n",
              "      <td>12.118530</td>\n",
              "      <td>1</td>\n",
              "      <td>2.550000</td>\n",
              "      <td>0</td>\n",
              "      <td>4</td>\n",
              "      <td>3.0</td>\n",
              "      <td>40.00</td>\n",
              "      <td>2</td>\n",
              "    </tr>\n",
              "    <tr>\n",
              "      <th>2</th>\n",
              "      <td>1ucePU3YSfRQ0MU19vuziCctY1O</td>\n",
              "      <td>8.851543</td>\n",
              "      <td>4</td>\n",
              "      <td>2.037437</td>\n",
              "      <td>7</td>\n",
              "      <td>2</td>\n",
              "      <td>9.0</td>\n",
              "      <td>18.75</td>\n",
              "      <td>1</td>\n",
              "    </tr>\n",
              "    <tr>\n",
              "      <th>3</th>\n",
              "      <td>1uceQrGHM33D6Z8ZnwaFnXHsjMe</td>\n",
              "      <td>7.110406</td>\n",
              "      <td>3</td>\n",
              "      <td>0.422917</td>\n",
              "      <td>8</td>\n",
              "      <td>2</td>\n",
              "      <td>3.0</td>\n",
              "      <td>66.67</td>\n",
              "      <td>0</td>\n",
              "    </tr>\n",
              "    <tr>\n",
              "      <th>4</th>\n",
              "      <td>1uceRYt8bCZ5GTREFZHmpuWBg8Z</td>\n",
              "      <td>0.038783</td>\n",
              "      <td>4</td>\n",
              "      <td>1.281250</td>\n",
              "      <td>8</td>\n",
              "      <td>2</td>\n",
              "      <td>9.0</td>\n",
              "      <td>7.14</td>\n",
              "      <td>1</td>\n",
              "    </tr>\n",
              "    <tr>\n",
              "      <th>...</th>\n",
              "      <td>...</td>\n",
              "      <td>...</td>\n",
              "      <td>...</td>\n",
              "      <td>...</td>\n",
              "      <td>...</td>\n",
              "      <td>...</td>\n",
              "      <td>...</td>\n",
              "      <td>...</td>\n",
              "      <td>...</td>\n",
              "    </tr>\n",
              "    <tr>\n",
              "      <th>8949</th>\n",
              "      <td>1ugU4GbZUU8nsoPn2QVXlSXSqOg</td>\n",
              "      <td>0.348961</td>\n",
              "      <td>2</td>\n",
              "      <td>2.755000</td>\n",
              "      <td>0</td>\n",
              "      <td>4</td>\n",
              "      <td>5.0</td>\n",
              "      <td>57.14</td>\n",
              "      <td>0</td>\n",
              "    </tr>\n",
              "    <tr>\n",
              "      <th>8950</th>\n",
              "      <td>1ugU9wfqitX1Yg2RWG9hI8iZkZ3</td>\n",
              "      <td>0.540623</td>\n",
              "      <td>1</td>\n",
              "      <td>2.600000</td>\n",
              "      <td>10</td>\n",
              "      <td>4</td>\n",
              "      <td>2.0</td>\n",
              "      <td>0.00</td>\n",
              "      <td>3</td>\n",
              "    </tr>\n",
              "    <tr>\n",
              "      <th>8951</th>\n",
              "      <td>1ugVUWtuNoiSsO7gy3OBkhmS0W1</td>\n",
              "      <td>0.408148</td>\n",
              "      <td>1</td>\n",
              "      <td>3.300000</td>\n",
              "      <td>8</td>\n",
              "      <td>4</td>\n",
              "      <td>1.0</td>\n",
              "      <td>0.00</td>\n",
              "      <td>3</td>\n",
              "    </tr>\n",
              "    <tr>\n",
              "      <th>8952</th>\n",
              "      <td>1uge057oVIQsEX1iWHS0Gqn5UH7</td>\n",
              "      <td>2.614471</td>\n",
              "      <td>6</td>\n",
              "      <td>1.959750</td>\n",
              "      <td>11</td>\n",
              "      <td>2</td>\n",
              "      <td>5.0</td>\n",
              "      <td>40.00</td>\n",
              "      <td>2</td>\n",
              "    </tr>\n",
              "    <tr>\n",
              "      <th>8953</th>\n",
              "      <td>1ugoRBMinsE1cOWhaXOL9rwrPwS</td>\n",
              "      <td>0.309994</td>\n",
              "      <td>6</td>\n",
              "      <td>0.630458</td>\n",
              "      <td>7</td>\n",
              "      <td>2</td>\n",
              "      <td>7.0</td>\n",
              "      <td>18.18</td>\n",
              "      <td>1</td>\n",
              "    </tr>\n",
              "  </tbody>\n",
              "</table>\n",
              "<p>8954 rows × 9 columns</p>\n",
              "</div>"
            ],
            "text/plain": [
              "                     anonymous_id          R  F        M1   D  Cluster_Id  \\\n",
              "0     1tkPK0Tg5IsJHBxuwNTairEWeja   3.554125  4  0.277875  49           2   \n",
              "1     1uceOy0US96gp7G9YREqmk4xMWT  12.118530  1  2.550000   0           4   \n",
              "2     1ucePU3YSfRQ0MU19vuziCctY1O   8.851543  4  2.037437   7           2   \n",
              "3     1uceQrGHM33D6Z8ZnwaFnXHsjMe   7.110406  3  0.422917   8           2   \n",
              "4     1uceRYt8bCZ5GTREFZHmpuWBg8Z   0.038783  4  1.281250   8           2   \n",
              "...                           ...        ... ..       ...  ..         ...   \n",
              "8949  1ugU4GbZUU8nsoPn2QVXlSXSqOg   0.348961  2  2.755000   0           4   \n",
              "8950  1ugU9wfqitX1Yg2RWG9hI8iZkZ3   0.540623  1  2.600000  10           4   \n",
              "8951  1ugVUWtuNoiSsO7gy3OBkhmS0W1   0.408148  1  3.300000   8           4   \n",
              "8952  1uge057oVIQsEX1iWHS0Gqn5UH7   2.614471  6  1.959750  11           2   \n",
              "8953  1ugoRBMinsE1cOWhaXOL9rwrPwS   0.309994  6  0.630458   7           2   \n",
              "\n",
              "      diversity  outstanding  Cluster_segment2  \n",
              "0           1.0       100.00                 0  \n",
              "1           3.0        40.00                 2  \n",
              "2           9.0        18.75                 1  \n",
              "3           3.0        66.67                 0  \n",
              "4           9.0         7.14                 1  \n",
              "...         ...          ...               ...  \n",
              "8949        5.0        57.14                 0  \n",
              "8950        2.0         0.00                 3  \n",
              "8951        1.0         0.00                 3  \n",
              "8952        5.0        40.00                 2  \n",
              "8953        7.0        18.18                 1  \n",
              "\n",
              "[8954 rows x 9 columns]"
            ]
          },
          "execution_count": 274,
          "metadata": {},
          "output_type": "execute_result"
        }
      ]
    },
    {
      "cell_type": "markdown",
      "metadata": {
        "id": "LUBYADmjzyqO"
      },
      "source": [
        "EDA: Continuous"
      ]
    },
    {
      "cell_type": "code",
      "metadata": {
        "id": "e_JW5TtKzyqO",
        "outputId": "f7cf7937-5838-4f63-e88b-8f277cdd5b76"
      },
      "source": [
        "sns.pairplot(segment_2[['diversity','outstanding']])"
      ],
      "execution_count": null,
      "outputs": [
        {
          "data": {
            "text/plain": [
              "<seaborn.axisgrid.PairGrid at 0x216a75f1be0>"
            ]
          },
          "execution_count": 93,
          "metadata": {},
          "output_type": "execute_result"
        },
        {
          "data": {
            "image/png": "[encoded data removed]",
            "text/plain": [
              "<Figure size 360x360 with 6 Axes>"
            ]
          },
          "metadata": {},
          "output_type": "display_data"
        }
      ]
    },
    {
      "cell_type": "code",
      "metadata": {
        "id": "VGDUOqmXzyqP",
        "outputId": "5671d1e5-034c-4a9e-ea59-45412f068f1d"
      },
      "source": [
        "sns.heatmap(segment_2[['diversity','outstanding']].corr(), annot=True)"
      ],
      "execution_count": null,
      "outputs": [
        {
          "data": {
            "text/plain": [
              "<AxesSubplot:>"
            ]
          },
          "execution_count": 247,
          "metadata": {},
          "output_type": "execute_result"
        },
        {
          "data": {
            "image/png": "[encoded data removed]",
            "text/plain": [
              "<Figure size 432x288 with 2 Axes>"
            ]
          },
          "metadata": {},
          "output_type": "display_data"
        }
      ]
    },
    {
      "cell_type": "markdown",
      "metadata": {
        "id": "nK2Y6oXIEyQQ"
      },
      "source": [
        "# **II. Cluster dựa trên phương pháp K-means**"
      ]
    },
    {
      "cell_type": "markdown",
      "metadata": {
        "id": "psd9k2UiFM5R"
      },
      "source": [
        "a. Scale data bằng Standard Scaler:\n",
        "\n",
        "\n",
        "```\n",
        "z = (x - m) / s\n",
        "m: mean của tập training\n",
        "s: standard deviation của tập training  \n",
        "\n",
        "```\n",
        "\n"
      ]
    },
    {
      "cell_type": "code",
      "metadata": {
        "colab": {
          "base_uri": "https://localhost:8080/"
        },
        "id": "89e1WRM-2Dqg",
        "outputId": "edac5980-3248-4f35-e9f1-1c88cd4b341b"
      },
      "source": [
        "scaler = StandardScaler()\n",
        "segment_scaled = scaler.fit_transform(segment_2[[\"diversity\",\"outstanding\"]])\n",
        "segment_scaled = pd.DataFrame(segment_scaled)\n",
        "segment_scaled.columns = [\"diversity\",\"outstanding\"]\n",
        "segment_scaled.shape"
      ],
      "execution_count": null,
      "outputs": [
        {
          "data": {
            "text/plain": [
              "(8954, 2)"
            ]
          },
          "execution_count": 252,
          "metadata": {},
          "output_type": "execute_result"
        }
      ]
    },
    {
      "cell_type": "code",
      "metadata": {
        "colab": {
          "base_uri": "https://localhost:8080/",
          "height": 172
        },
        "id": "QhTd9UfGGz7k",
        "outputId": "6a46cec8-8f1a-425c-e03f-1a34aaddf119"
      },
      "source": [
        "segment_scaled.head(4)"
      ],
      "execution_count": null,
      "outputs": [
        {
          "data": {
            "text/html": [
              "<div>\n",
              "<style scoped>\n",
              "    .dataframe tbody tr th:only-of-type {\n",
              "        vertical-align: middle;\n",
              "    }\n",
              "\n",
              "    .dataframe tbody tr th {\n",
              "        vertical-align: top;\n",
              "    }\n",
              "\n",
              "    .dataframe thead th {\n",
              "        text-align: right;\n",
              "    }\n",
              "</style>\n",
              "<table border=\"1\" class=\"dataframe\">\n",
              "  <thead>\n",
              "    <tr style=\"text-align: right;\">\n",
              "      <th></th>\n",
              "      <th>diversity</th>\n",
              "      <th>outstanding</th>\n",
              "    </tr>\n",
              "  </thead>\n",
              "  <tbody>\n",
              "    <tr>\n",
              "      <th>0</th>\n",
              "      <td>-1.489129</td>\n",
              "      <td>2.771839</td>\n",
              "    </tr>\n",
              "    <tr>\n",
              "      <th>1</th>\n",
              "      <td>-0.661568</td>\n",
              "      <td>0.364390</td>\n",
              "    </tr>\n",
              "    <tr>\n",
              "      <th>2</th>\n",
              "      <td>1.821115</td>\n",
              "      <td>-0.488248</td>\n",
              "    </tr>\n",
              "    <tr>\n",
              "      <th>3</th>\n",
              "      <td>-0.661568</td>\n",
              "      <td>1.434501</td>\n",
              "    </tr>\n",
              "  </tbody>\n",
              "</table>\n",
              "</div>"
            ],
            "text/plain": [
              "   diversity  outstanding\n",
              "0  -1.489129     2.771839\n",
              "1  -0.661568     0.364390\n",
              "2   1.821115    -0.488248\n",
              "3  -0.661568     1.434501"
            ]
          },
          "execution_count": 253,
          "metadata": {},
          "output_type": "execute_result"
        }
      ]
    },
    {
      "cell_type": "markdown",
      "metadata": {
        "id": "aR45p4unIkcp"
      },
      "source": [
        "b. Chạy model:"
      ]
    },
    {
      "cell_type": "code",
      "metadata": {
        "id": "X49I57Zm2Dqh"
      },
      "source": [
        "ssd = []\n",
        "range_n_clusters = [2, 3, 4, 5, 6, 7, 8,9,10]\n",
        "for num_clusters in range_n_clusters:\n",
        "    kmeans = KMeans(n_clusters=num_clusters, init='k-means++', max_iter = 300, n_init = 10)\n",
        "    kmeans.fit(segment_scaled)\n",
        "    \n",
        "    ssd.append(kmeans.inertia_)"
      ],
      "execution_count": null,
      "outputs": []
    },
    {
      "cell_type": "markdown",
      "metadata": {
        "id": "uyM10G0hMGqQ"
      },
      "source": [
        "`Define number of clusters following kmeans.inertia_ (sum of squared distances of samples to their closest cluster center)`"
      ]
    },
    {
      "cell_type": "code",
      "metadata": {
        "colab": {
          "base_uri": "https://localhost:8080/",
          "height": 286
        },
        "id": "Cp_bgxuhLCs7",
        "outputId": "b83d5030-153d-46c9-bf43-12bd05ffe001"
      },
      "source": [
        "fig, ax = plt.subplots()\n",
        "ax.set_xticklabels([1,2,3,4,5,6,7,8,9,10])\n",
        "plt.plot(ssd)"
      ],
      "execution_count": null,
      "outputs": [
        {
          "data": {
            "text/plain": [
              "[<matplotlib.lines.Line2D at 0x216aea14fa0>]"
            ]
          },
          "execution_count": 255,
          "metadata": {},
          "output_type": "execute_result"
        },
        {
          "data": {
            "image/png": "[encoded data removed]",
            "text/plain": [
              "<Figure size 432x288 with 1 Axes>"
            ]
          },
          "metadata": {},
          "output_type": "display_data"
        }
      ]
    },
    {
      "cell_type": "code",
      "metadata": {
        "colab": {
          "base_uri": "https://localhost:8080/"
        },
        "id": "D6MuaDgGicqj",
        "outputId": "052a3166-46dc-4146-cb02-a2d9907ba52d"
      },
      "source": [
        "kl = KneeLocator(range(2, 11), ssd, curve=\"convex\", direction=\"decreasing\")\n",
        "print('K-mean Elbow: {}'.format(kl.elbow))"
      ],
      "execution_count": null,
      "outputs": [
        {
          "name": "stdout",
          "output_type": "stream",
          "text": [
            "K-mean Elbow: 4\n"
          ]
        }
      ]
    },
    {
      "cell_type": "markdown",
      "metadata": {
        "id": "NmUVy3aYNapY"
      },
      "source": [
        "\n",
        "\n",
        "```\n",
        "Define number of clusters following silhouette_score\n",
        "```\n",
        "\n"
      ]
    },
    {
      "cell_type": "code",
      "metadata": {
        "colab": {
          "base_uri": "https://localhost:8080/"
        },
        "id": "QuF4Dzjt2Dqh",
        "outputId": "c8c6e43b-bccb-435c-dac5-d3c5e3467653"
      },
      "source": [
        "range_n_clusters = [2, 3, 4, 5, 6, 7, 8,9,10]\n",
        "\n",
        "for num_clusters in range_n_clusters:\n",
        "    kmeans = KMeans(n_clusters=num_clusters,  init='k-means++', max_iter = 100, n_init = 10)\n",
        "    kmeans.fit(segment_scaled)\n",
        "    \n",
        "    cluster_labels = kmeans.labels_\n",
        "    \n",
        "    # silhouette score\n",
        "    silhouette_avg = silhouette_score(segment_scaled, cluster_labels)\n",
        "    print(\"For n_clusters={0}, the silhouette score is {1}\".format(num_clusters, silhouette_avg))"
      ],
      "execution_count": null,
      "outputs": [
        {
          "name": "stdout",
          "output_type": "stream",
          "text": [
            "For n_clusters=2, the silhouette score is 0.3630651329060064\n",
            "For n_clusters=3, the silhouette score is 0.40864185347284954\n",
            "For n_clusters=4, the silhouette score is 0.3882321531749055\n",
            "For n_clusters=5, the silhouette score is 0.3837879356874056\n",
            "For n_clusters=6, the silhouette score is 0.4003649526285497\n",
            "For n_clusters=7, the silhouette score is 0.4082576536910596\n",
            "For n_clusters=8, the silhouette score is 0.3961110107180064\n",
            "For n_clusters=9, the silhouette score is 0.4026992034371702\n",
            "For n_clusters=10, the silhouette score is 0.39496831771284074\n"
          ]
        }
      ]
    },
    {
      "cell_type": "markdown",
      "metadata": {
        "id": "TZbQkAd4OVpA"
      },
      "source": [
        "Dựa theo kmeans.inertia_, số cluster tối ưu là 5.\n",
        "\n",
        "Dựa theo silhouette score, số cluster tối ưu là 5.\n",
        "\n",
        "--> Sẽ phân chia thành 5 cluster."
      ]
    },
    {
      "cell_type": "markdown",
      "metadata": {
        "id": "lJ3OjjOdzyqR"
      },
      "source": [
        "Tối ưu hóa các chỉ số max_iter, n_init: "
      ]
    },
    {
      "cell_type": "markdown",
      "metadata": {
        "id": "j4ETntSIzyqR"
      },
      "source": [
        "    MAX_ITER"
      ]
    },
    {
      "cell_type": "code",
      "metadata": {
        "id": "MySCyyDzzyqR"
      },
      "source": [
        "range_max_iter = [100, 200, 300, 400, 500, 600, 700]\n",
        "\n",
        "for max_iter_ in range_max_iter:\n",
        "    kmeans = KMeans(n_clusters=5,  init='k-means++', max_iter = max_iter_, n_init = 10, random_state= 32)\n",
        "    kmeans.fit(rfm_df_scaled)\n",
        "    \n",
        "    cluster_labels = kmeans.labels_\n",
        "    \n",
        "    # silhouette score\n",
        "    silhouette_avg = silhouette_score(rfm_df_scaled, cluster_labels)\n",
        "    print(\"For max_iter={0}, the silhouette score is {1}\".format(max_iter_, silhouette_avg))"
      ],
      "execution_count": null,
      "outputs": []
    },
    {
      "cell_type": "markdown",
      "metadata": {
        "id": "HzZjIs-fzyqS"
      },
      "source": [
        "--> max_iter = 100 là tối ưu"
      ]
    },
    {
      "cell_type": "markdown",
      "metadata": {
        "id": "zhI5N-m7zyqS"
      },
      "source": [
        "    N_INIT"
      ]
    },
    {
      "cell_type": "code",
      "metadata": {
        "id": "N7QR85k3zyqS"
      },
      "source": [
        "range_n_init = [10, 20, 30, 40, 60, 80, 300]\n",
        "\n",
        "for n_init_ in range_n_init:\n",
        "    kmeans = KMeans(n_clusters=5,  init='k-means++' , max_iter = 300, n_init = n_init_, random_state= 32)\n",
        "    kmeans.fit(rfm_df_scaled)\n",
        "    \n",
        "    cluster_labels = kmeans.labels_\n",
        "    \n",
        "    # silhouette score\n",
        "    silhouette_avg = silhouette_score(rfm_df_scaled, cluster_labels)\n",
        "    print(\"For n_init={0}, the silhouette score is {1}\".format(n_init_, silhouette_avg))"
      ],
      "execution_count": null,
      "outputs": []
    },
    {
      "cell_type": "markdown",
      "metadata": {
        "id": "ktL1nVY5zyqS"
      },
      "source": [
        "n_init = 10 là tối ưu"
      ]
    },
    {
      "cell_type": "markdown",
      "metadata": {
        "id": "0n0b8on9RDGI"
      },
      "source": [
        "Với 5 clusters:"
      ]
    },
    {
      "cell_type": "code",
      "metadata": {
        "colab": {
          "base_uri": "https://localhost:8080/"
        },
        "id": "KlClAopiPWrj",
        "outputId": "4ee81276-b3cc-4504-a0f5-173c03c38323"
      },
      "source": [
        "kmeans = KMeans(n_clusters=4, max_iter=100, n_init= 10, init='k-means++', random_state = 32)\n",
        "kmeans.fit(segment_scaled)"
      ],
      "execution_count": null,
      "outputs": [
        {
          "data": {
            "text/plain": [
              "KMeans(max_iter=100, n_clusters=4, random_state=32)"
            ]
          },
          "execution_count": 256,
          "metadata": {},
          "output_type": "execute_result"
        }
      ]
    },
    {
      "cell_type": "code",
      "metadata": {
        "id": "u5Pqan5ozyqS",
        "outputId": "38256431-295d-40a2-bd10-e69cedbfb764"
      },
      "source": [
        "segment_scaled"
      ],
      "execution_count": null,
      "outputs": [
        {
          "data": {
            "text/html": [
              "<div>\n",
              "<style scoped>\n",
              "    .dataframe tbody tr th:only-of-type {\n",
              "        vertical-align: middle;\n",
              "    }\n",
              "\n",
              "    .dataframe tbody tr th {\n",
              "        vertical-align: top;\n",
              "    }\n",
              "\n",
              "    .dataframe thead th {\n",
              "        text-align: right;\n",
              "    }\n",
              "</style>\n",
              "<table border=\"1\" class=\"dataframe\">\n",
              "  <thead>\n",
              "    <tr style=\"text-align: right;\">\n",
              "      <th></th>\n",
              "      <th>diversity</th>\n",
              "      <th>outstanding</th>\n",
              "    </tr>\n",
              "  </thead>\n",
              "  <tbody>\n",
              "    <tr>\n",
              "      <th>0</th>\n",
              "      <td>-1.489129</td>\n",
              "      <td>2.771839</td>\n",
              "    </tr>\n",
              "    <tr>\n",
              "      <th>1</th>\n",
              "      <td>-0.661568</td>\n",
              "      <td>0.364390</td>\n",
              "    </tr>\n",
              "    <tr>\n",
              "      <th>2</th>\n",
              "      <td>1.821115</td>\n",
              "      <td>-0.488248</td>\n",
              "    </tr>\n",
              "    <tr>\n",
              "      <th>3</th>\n",
              "      <td>-0.661568</td>\n",
              "      <td>1.434501</td>\n",
              "    </tr>\n",
              "    <tr>\n",
              "      <th>4</th>\n",
              "      <td>1.821115</td>\n",
              "      <td>-0.954089</td>\n",
              "    </tr>\n",
              "    <tr>\n",
              "      <th>...</th>\n",
              "      <td>...</td>\n",
              "      <td>...</td>\n",
              "    </tr>\n",
              "    <tr>\n",
              "      <th>8949</th>\n",
              "      <td>0.165993</td>\n",
              "      <td>1.052118</td>\n",
              "    </tr>\n",
              "    <tr>\n",
              "      <th>8950</th>\n",
              "      <td>-1.075349</td>\n",
              "      <td>-1.240575</td>\n",
              "    </tr>\n",
              "    <tr>\n",
              "      <th>8951</th>\n",
              "      <td>-1.489129</td>\n",
              "      <td>-1.240575</td>\n",
              "    </tr>\n",
              "    <tr>\n",
              "      <th>8952</th>\n",
              "      <td>0.165993</td>\n",
              "      <td>0.364390</td>\n",
              "    </tr>\n",
              "    <tr>\n",
              "      <th>8953</th>\n",
              "      <td>0.993554</td>\n",
              "      <td>-0.511119</td>\n",
              "    </tr>\n",
              "  </tbody>\n",
              "</table>\n",
              "<p>8954 rows × 2 columns</p>\n",
              "</div>"
            ],
            "text/plain": [
              "      diversity  outstanding\n",
              "0     -1.489129     2.771839\n",
              "1     -0.661568     0.364390\n",
              "2      1.821115    -0.488248\n",
              "3     -0.661568     1.434501\n",
              "4      1.821115    -0.954089\n",
              "...         ...          ...\n",
              "8949   0.165993     1.052118\n",
              "8950  -1.075349    -1.240575\n",
              "8951  -1.489129    -1.240575\n",
              "8952   0.165993     0.364390\n",
              "8953   0.993554    -0.511119\n",
              "\n",
              "[8954 rows x 2 columns]"
            ]
          },
          "execution_count": 257,
          "metadata": {},
          "output_type": "execute_result"
        }
      ]
    },
    {
      "cell_type": "code",
      "metadata": {
        "id": "ed_U9tfsRWOz"
      },
      "source": [
        "segment_scaled['Cluster_segment2'] = kmeans.labels_\n",
        "# Trung bình doanh thu trên từng ID của mỗi nhóm.\n",
        "# (segment_2.groupby(['Cluster_segment2']).M.mean())"
      ],
      "execution_count": null,
      "outputs": []
    },
    {
      "cell_type": "code",
      "metadata": {
        "id": "sGcqm2zOzyqT"
      },
      "source": [
        "segment_2['Cluster_segment2'] = segment_scaled['Cluster_segment2']"
      ],
      "execution_count": null,
      "outputs": []
    },
    {
      "cell_type": "code",
      "metadata": {
        "colab": {
          "base_uri": "https://localhost:8080/",
          "height": 622
        },
        "id": "24MJIeQceZMa",
        "outputId": "7832435b-eaeb-4be8-d91e-34878007d696"
      },
      "source": [
        "fig = plt.figure()\n",
        "fig.patch.set_facecolor('white')\n",
        "fig, axs = plt.subplots(ncols=2,nrows=1, figsize = (10,5))\n",
        "sns.set_theme(style=\"darkgrid\")\n",
        "sns.boxplot(x='Cluster_segment2', y='diversity', palette='Set3',data=segment_2, ax=axs[0])\n",
        "sns.boxplot(x='Cluster_segment2', y='outstanding',palette='Set3', data=segment_2,ax=axs[1])"
      ],
      "execution_count": null,
      "outputs": [
        {
          "data": {
            "text/plain": [
              "<AxesSubplot:xlabel='Cluster_segment2', ylabel='outstanding'>"
            ]
          },
          "execution_count": 285,
          "metadata": {},
          "output_type": "execute_result"
        },
        {
          "data": {
            "text/plain": [
              "<Figure size 432x288 with 0 Axes>"
            ]
          },
          "metadata": {},
          "output_type": "display_data"
        },
        {
          "data": {
            "image/png": "[encoded data removed]",
            "text/plain": [
              "<Figure size 720x360 with 2 Axes>"
            ]
          },
          "metadata": {},
          "output_type": "display_data"
        }
      ]
    },
    {
      "cell_type": "markdown",
      "metadata": {
        "id": "3_JJcwBxgIi4"
      },
      "source": [
        "Dicussion: \n",
        "\n",
        "Nhóm 0: Đa dạng loại sản phẩm, tông màu nổi bật khoảng 25%.\n",
        "Nhóm 1: Độ nổi của màu sắc và độ đa dạng giỏ đồ ở mức trung bình. \n",
        "Nhóm 2: Gu hàng basic, giỏ hàng tương đối ít.\n",
        "Nhóm 3: Khác hàng thích màu nổi , độ đa dạng giỏ hàng thấp nhất."
      ]
    },
    {
      "cell_type": "markdown",
      "metadata": {
        "id": "WPZeGJLSzyqT"
      },
      "source": [
        "Visualize Cluster:"
      ]
    },
    {
      "cell_type": "code",
      "metadata": {
        "scrolled": false,
        "id": "zCk6zoy9zyqT",
        "outputId": "dec01063-f48a-4ecf-d824-a89ed49763ed"
      },
      "source": [
        "fig = plt.figure()\n",
        "fig.patch.set_facecolor('white')\n",
        "sns.pairplot(segment_2[['diversity','outstanding','Cluster_segment2']],hue='Cluster_segment2',palette=\"viridis\")"
      ],
      "execution_count": null,
      "outputs": [
        {
          "data": {
            "text/plain": [
              "<seaborn.axisgrid.PairGrid at 0x216aed0c490>"
            ]
          },
          "execution_count": 261,
          "metadata": {},
          "output_type": "execute_result"
        },
        {
          "data": {
            "text/plain": [
              "<Figure size 432x288 with 0 Axes>"
            ]
          },
          "metadata": {},
          "output_type": "display_data"
        },
        {
          "data": {
            "image/png": "[encoded data removed]",
            "text/plain": [
              "<Figure size 466.3x360 with 6 Axes>"
            ]
          },
          "metadata": {},
          "output_type": "display_data"
        }
      ]
    },
    {
      "cell_type": "code",
      "metadata": {
        "id": "_IaqznjEzyqU"
      },
      "source": [
        "segment_2.to_csv('0309_10h37_segment2.csv')"
      ],
      "execution_count": null,
      "outputs": []
    },
    {
      "cell_type": "code",
      "metadata": {
        "id": "BgMf2MvfzyqU"
      },
      "source": [
        ""
      ],
      "execution_count": null,
      "outputs": []
    }
  ]
}
