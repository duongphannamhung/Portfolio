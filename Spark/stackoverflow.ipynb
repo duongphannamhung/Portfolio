{
 "cells": [
  {
   "cell_type": "code",
   "execution_count": 28,
   "metadata": {},
   "outputs": [],
   "source": [
    "from pyspark.sql import SparkSession, Window, Row, functions as f\n",
    "from pyspark.sql.functions import *\n",
    "from pyspark.sql.types import *\n",
    "import re"
   ]
  },
  {
   "cell_type": "code",
   "execution_count": 29,
   "metadata": {},
   "outputs": [],
   "source": [
    "spark = SparkSession \\\n",
    "    .builder \\\n",
    "    .master('local[2]') \\\n",
    "    .appName('Stack Over Flow Tracking') \\\n",
    "    .config(\"spark.streaming.stopGracefullyOnShutdown\", \"true\") \\\n",
    "\t.config('spark.jars.packages','org.apache.spark:spark-sql-kafka-0-10_2.12:3.1.2') \\\n",
    "\t.config('spark.jars.packages','org.mongodb.spark:mongo-spark-connector_2.12:3.0.1') \\\n",
    "    .getOrCreate()"
   ]
  },
  {
   "cell_type": "code",
   "execution_count": 31,
   "metadata": {},
   "outputs": [
    {
     "name": "stderr",
     "output_type": "stream",
     "text": [
      "22/05/15 18:31:11 WARN MongoInferSchema: Field 'OwnerUserId' contains conflicting types converting to StringType\n",
      "22/05/15 18:31:14 WARN MongoInferSchema: Field 'OwnerUserId' contains conflicting types converting to StringType\n"
     ]
    }
   ],
   "source": [
    "# 2. Đọc dữ liệu từ MongoDB với Spark\n",
    "questions = spark.read \\\n",
    "    .format('mongo') \\\n",
    "    .option(\"spark.mongodb.input.uri\",'mongodb://127.0.0.1/dep303-assignment1.questions').load()\n",
    "\n",
    "answers = spark.read \\\n",
    "    .format('mongo') \\\n",
    "    .option(\"spark.mongodb.input.uri\",'mongodb://127.0.0.1/dep303-assignment1.answers').load()"
   ]
  },
  {
   "cell_type": "code",
   "execution_count": 32,
   "metadata": {},
   "outputs": [],
   "source": [
    "# 3. Chuẩn hóa dữ liệu\n",
    "question_df = questions \\\n",
    "\t.withColumn(\"ClosedDate\", to_date(expr(\"case when ClosedDate == 'NA' then NULL else ClosedDate end\"), \"yyyy-MM-dd'T'HH:mm:ss'Z'\")) \\\n",
    "\t.withColumn(\"CreationDate\", to_date(expr(\"case when CreationDate == 'NA' then NULL else CreationDate end\"), \"yyyy-MM-dd'T'HH:mm:ss'Z'\")) \\\n",
    "\t.withColumn(\"OwnerUserId\", expr(\"case when OwnerUserId == 'NA' then NULL else CAST(OwnerUserId as int) end\"))"
   ]
  },
  {
   "cell_type": "code",
   "execution_count": 42,
   "metadata": {},
   "outputs": [
    {
     "name": "stderr",
     "output_type": "stream",
     "text": [
      "[Stage 10:======================================================> (31 + 1) / 32]\r"
     ]
    },
    {
     "name": "stdout",
     "output_type": "stream",
     "text": [
      "+----------+-----+\n",
      "|      word|count|\n",
      "+----------+-----+\n",
      "|        C#|19144|\n",
      "|       C++|16442|\n",
      "|Javascript| 7608|\n",
      "|       CSS|16541|\n",
      "|      HTML|34597|\n",
      "|       PHP|33869|\n",
      "|       SQL|44276|\n",
      "|        Go| 1849|\n",
      "|      Ruby| 6049|\n",
      "|    Python|18703|\n",
      "|      Java|32880|\n",
      "+----------+-----+\n",
      "\n"
     ]
    },
    {
     "name": "stderr",
     "output_type": "stream",
     "text": [
      "                                                                                \r"
     ]
    }
   ],
   "source": [
    "# 4. Yêu cầu 1: Tính số lần xuất hiện của các ngôn ngữ lập trình\n",
    "# Select only cột Body để nhẹ dữ liệu\n",
    "onlybody_df = question_df.select(\"body\")\n",
    "# Split cột ra thành array tập hợp từ\n",
    "splitquestion_df = onlybody_df.select(split(onlybody_df.body, '\\s+').alias('split'))\n",
    "# Chuyển array tập hợp từ sang word từng dòng\n",
    "splitquestion_df = splitquestion_df.select(explode_outer('split').alias('word'))\n",
    "# Chỉ chọn các word trong tập hợp\n",
    "list = ['Java', 'Python', 'C++', 'C#', 'Go', 'Ruby', 'Javascript', 'PHP', 'HTML', 'CSS', 'SQL']\n",
    "splitquestion_df = splitquestion_df.where(splitquestion_df.word.isin(list))\n",
    "# splitquestion_df.show()\n",
    "splitquestion_df = splitquestion_df.groupBy('word').agg(f.count('word').alias('count')).show()"
   ]
  },
  {
   "cell_type": "code",
   "execution_count": 34,
   "metadata": {},
   "outputs": [],
   "source": [
    "# 5. Yêu cầu 2 : Tìm các domain được sử dụng nhiều nhất trong các câu hỏi\n",
    "\n",
    "def parsing_domain(str):\n",
    "    # regex = r'([a-zA-Z0-9.]*[a-zA-Z0-9\\-]+\\.[a-zA-Z0-9]+)(?=\\/?)(?:[a-zA-Z0-9])'\n",
    "    regex = r'https?://(?:[-\\w.]|(?:%[\\da-fA-F]2))+'\n",
    "    result = re.findall(regex,str)\n",
    "    return result if result else []"
   ]
  },
  {
   "cell_type": "code",
   "execution_count": 35,
   "metadata": {},
   "outputs": [],
   "source": [
    "parsing_domain_udf = udf(parsing_domain, returnType=ArrayType(StringType()))\n",
    "matched = onlybody_df.withColumn('matched',parsing_domain_udf('body'))\n",
    "website = matched.select(explode('matched').alias('domain'))\n",
    "website = website.filter((website.domain.isNotNull()) & (website.domain != \"\"))\n",
    "website = website.filter(~(website.domain.contains('...')))\\\n",
    "        .withColumn(\"domain\", substring_index(\"domain\", \"//\", -1)) \\\n",
    "        .groupBy('domain').agg(f.count(\"*\").alias('count'))\n",
    "website = website.sort(col('count').desc())"
   ]
  },
  {
   "cell_type": "code",
   "execution_count": 41,
   "metadata": {},
   "outputs": [
    {
     "name": "stderr",
     "output_type": "stream",
     "text": [
      "[Stage 9:>                                                          (0 + 2) / 2]\r"
     ]
    },
    {
     "name": "stdout",
     "output_type": "stream",
     "text": [
      "+-----------------+------+\n",
      "|           domain| count|\n",
      "+-----------------+------+\n",
      "|i.stack.imgur.com|125386|\n",
      "|stackoverflow.com| 58862|\n",
      "|       github.com| 35417|\n",
      "|     jsfiddle.net| 35385|\n",
      "|        localhost| 24149|\n",
      "+-----------------+------+\n",
      "only showing top 5 rows\n",
      "\n"
     ]
    },
    {
     "name": "stderr",
     "output_type": "stream",
     "text": [
      "                                                                                \r"
     ]
    }
   ],
   "source": [
    "website.show(5)"
   ]
  },
  {
   "cell_type": "code",
   "execution_count": 9,
   "metadata": {},
   "outputs": [],
   "source": [
    "# 6. Yêu cầu 3 : Tính tổng điểm của User theo từng ngày\n",
    "\n",
    "running_total_window = Window.partitionBy(\"OwnerUserId\").orderBy(\"CreationDate\") \\\n",
    "    .rowsBetween(Window.unboundedPreceding, Window.currentRow)\n",
    "\n",
    "running_score = question_df.withColumn(\"TotalScore\",f.sum(\"Score\").over(running_total_window))\n",
    "running_score = running_score.select(\"OwnerUserId\",\"CreationDate\",\"TotalScore\")"
   ]
  },
  {
   "cell_type": "code",
   "execution_count": 12,
   "metadata": {},
   "outputs": [
    {
     "name": "stderr",
     "output_type": "stream",
     "text": [
      "[Stage 9:=======================================================> (31 + 1) / 32]\r"
     ]
    },
    {
     "name": "stdout",
     "output_type": "stream",
     "text": [
      "+-----------+------------+----------+\n",
      "|OwnerUserId|CreationDate|TotalScore|\n",
      "+-----------+------------+----------+\n",
      "|          1|  2008-11-26|        10|\n",
      "|          1|  2009-01-08|        30|\n",
      "|          1|  2009-10-08|        58|\n",
      "|         20|  2010-09-22|         2|\n",
      "|         20|  2011-04-21|         4|\n",
      "|         20|  2011-05-19|         7|\n",
      "|         20|  2013-08-02|         7|\n",
      "|         22|  2012-04-27|         1|\n",
      "|         26|  2008-08-01|        26|\n",
      "|         26|  2008-08-14|        27|\n",
      "|         26|  2008-08-15|        31|\n",
      "|         26|  2008-09-22|        34|\n",
      "|         26|  2009-01-02|        44|\n",
      "|         26|  2009-01-09|        45|\n",
      "|         26|  2009-02-15|        45|\n",
      "|         26|  2009-03-10|        51|\n",
      "|         26|  2009-03-10|        52|\n",
      "|         26|  2009-04-03|        52|\n",
      "|         26|  2009-12-02|        64|\n",
      "|         26|  2010-01-28|        68|\n",
      "+-----------+------------+----------+\n",
      "only showing top 20 rows\n",
      "\n"
     ]
    },
    {
     "name": "stderr",
     "output_type": "stream",
     "text": [
      "                                                                                \r"
     ]
    }
   ],
   "source": [
    "running_score.filter(running_score.OwnerUserId.isNotNull()).show()"
   ]
  },
  {
   "cell_type": "code",
   "execution_count": 14,
   "metadata": {},
   "outputs": [],
   "source": [
    "# 7. Yêu cầu 4: Tính tổng số điểm mà User đạt được trong một khoảng thời gian\n",
    "START = '2008-01-01'\n",
    "END = '2009-01-01'\n",
    "range = (START,END)\n",
    "date_from,date_to = [to_date(lit(s)).cast(DateType()) for s in range]\n",
    "filterdate_df = question_df.filter((question_df.CreationDate>=date_from) & (question_df.CreationDate<=date_to))\n",
    "select_filterdate_df = filterdate_df.select(\"OwnerUserId\",\"Score\")\n",
    "select_filterdate_df.groupBy('OwnerUserID').agg(f.sum('Score').alias('TotalScore'))"
   ]
  },
  {
   "cell_type": "code",
   "execution_count": 18,
   "metadata": {},
   "outputs": [
    {
     "name": "stdout",
     "output_type": "stream",
     "text": [
      "+-----------+-----+\n",
      "|OwnerUserId|Score|\n",
      "+-----------+-----+\n",
      "|         26|   26|\n",
      "|         83|   21|\n",
      "|    2089740|   53|\n",
      "|         58|  144|\n",
      "|         91|   49|\n",
      "|         63|   29|\n",
      "|         71|   13|\n",
      "|         91|   21|\n",
      "|        143|   79|\n",
      "|        245|   28|\n",
      "|        233|    9|\n",
      "|         67|   14|\n",
      "|        254|   42|\n",
      "|        120|   36|\n",
      "|        236|   17|\n",
      "|        281|   17|\n",
      "|         91|   23|\n",
      "|         60|   18|\n",
      "|        230|   18|\n",
      "|        328|   63|\n",
      "+-----------+-----+\n",
      "only showing top 20 rows\n",
      "\n"
     ]
    }
   ],
   "source": [
    "select_filterdate_df.show()"
   ]
  },
  {
   "cell_type": "code",
   "execution_count": 6,
   "metadata": {},
   "outputs": [
    {
     "name": "stdout",
     "output_type": "stream",
     "text": [
      "+--------------------+--------------------+---+-----------+--------+-----+--------------------+\n",
      "|                Body|        CreationDate| Id|OwnerUserId|ParentId|Score|                 _id|\n",
      "+--------------------+--------------------+---+-----------+--------+-----+--------------------+\n",
      "|<p><a href=\"http:...|2008-08-01T14:45:37Z| 92|         61|      90|   13|{627a956f97fbe8e4...|\n",
      "|<p>I've read some...|2008-08-01T19:36:46Z|199|         50|     180|    1|{627a956f97fbe8e4...|\n",
      "|<p>Yes, I thought...|2008-08-01T23:49:57Z|269|         91|     260|    4|{627a956f97fbe8e4...|\n",
      "|<p>I wound up usi...|2008-08-01T16:09:47Z|124|         26|      80|   12|{627a956f97fbe8e4...|\n",
      "|<p><a href=\"http:...|2008-08-02T01:49:46Z|307|         49|     260|   28|{627a956f97fbe8e4...|\n",
      "|<p>I would be a b...|2008-08-02T03:00:24Z|332|         59|     330|   19|{627a956f97fbe8e4...|\n",
      "|<p>You might be a...|2008-08-02T04:18:15Z|344|        100|     260|    6|{627a956f97fbe8e4...|\n",
      "|<P>You could use ...|2008-08-02T06:16:23Z|359|        119|     260|    5|{627a956f97fbe8e4...|\n",
      "|<p>No, what you'r...|2008-08-02T15:33:13Z|473|         49|     470|    8|{627a956f97fbe8e4...|\n",
      "|<p>Isn't it also ...|2008-08-02T18:16:07Z|529|         86|     180|    3|{627a956f97fbe8e4...|\n",
      "|<p>My first thoug...|2008-08-02T19:03:52Z|539|        157|     180|   21|{627a956f97fbe8e4...|\n",
      "|<p>I've taken to ...|2008-08-02T23:51:09Z|586|         34|     580|   17|{627a956f97fbe8e4...|\n",
      "|<p>For my project...|2008-08-02T23:40:04Z|585|        149|     580|   13|{627a956f97fbe8e4...|\n",
      "|<p>If you have a ...|2008-08-03T00:22:03Z|590|        116|     580|    2|{627a956f97fbe8e4...|\n",
      "|<p>I work the sam...|2008-08-03T00:37:03Z|591|        111|     580|    3|{627a956f97fbe8e4...|\n",
      "|<p>I agree that s...|2008-08-03T01:38:02Z|597|         76|     580|    1|{627a956f97fbe8e4...|\n",
      "|<p>With the \"Buil...|2008-08-03T11:41:38Z|655|         91|     650|   69|{627a956f97fbe8e4...|\n",
      "|<p>What source co...|2008-08-03T18:46:33Z|787|        175|     650|    4|{627a956f97fbe8e4...|\n",
      "|<p>I'm partway to...|2008-08-03T20:45:27Z|818|        233|     810|    0|{627a956f97fbe8e4...|\n",
      "|<p>First: Yes, th...|2008-08-03T20:48:47Z|820|         91|     810|    3|{627a956f97fbe8e4...|\n",
      "+--------------------+--------------------+---+-----------+--------+-----+--------------------+\n",
      "only showing top 20 rows\n",
      "\n",
      "root\n",
      " |-- Body: string (nullable = true)\n",
      " |-- CreationDate: string (nullable = true)\n",
      " |-- Id: integer (nullable = true)\n",
      " |-- OwnerUserId: string (nullable = true)\n",
      " |-- ParentId: integer (nullable = true)\n",
      " |-- Score: integer (nullable = true)\n",
      " |-- _id: struct (nullable = true)\n",
      " |    |-- oid: string (nullable = true)\n",
      "\n"
     ]
    }
   ],
   "source": [
    "# 8. Yêu cầu 5: Tìm các câu hỏi có nhiều câu trả lời\n",
    "answers.show()"
   ]
  },
  {
   "cell_type": "code",
   "execution_count": 15,
   "metadata": {},
   "outputs": [],
   "source": [
    "answers_df = answers \\\n",
    "\t.withColumn(\"CreationDate\", to_date(expr(\"case when CreationDate == 'NA' then NULL else CreationDate end\"), \"yyyy-MM-dd'T'HH:mm:ss'Z'\")) \\\n",
    "\t.withColumn(\"OwnerUserId\", expr(\"case when OwnerUserId == 'NA' then NULL else CAST(OwnerUserId as int) end\"))"
   ]
  },
  {
   "cell_type": "code",
   "execution_count": 8,
   "metadata": {},
   "outputs": [
    {
     "name": "stdout",
     "output_type": "stream",
     "text": [
      "root\n",
      " |-- Body: string (nullable = true)\n",
      " |-- CreationDate: date (nullable = true)\n",
      " |-- Id: integer (nullable = true)\n",
      " |-- OwnerUserId: integer (nullable = true)\n",
      " |-- ParentId: integer (nullable = true)\n",
      " |-- Score: integer (nullable = true)\n",
      " |-- _id: struct (nullable = true)\n",
      " |    |-- oid: string (nullable = true)\n",
      "\n"
     ]
    }
   ],
   "source": [
    "answers_df.printSchema()"
   ]
  },
  {
   "cell_type": "code",
   "execution_count": 16,
   "metadata": {},
   "outputs": [],
   "source": [
    "more_5_ans_df = answers_df.select('ParentId','Id')\n",
    "more_5_ans_df = more_5_ans_df.groupBy('ParentId').agg(f.count('Id').alias('count_ans'))\n",
    "more_5_ans_df = more_5_ans_df.filter(more_5_ans_df.count_ans>5)"
   ]
  },
  {
   "cell_type": "code",
   "execution_count": 19,
   "metadata": {},
   "outputs": [
    {
     "name": "stderr",
     "output_type": "stream",
     "text": [
      "[Stage 8:======================================================>  (26 + 1) / 27]\r"
     ]
    },
    {
     "name": "stdout",
     "output_type": "stream",
     "text": [
      "+--------+---------+\n",
      "|ParentId|count_ans|\n",
      "+--------+---------+\n",
      "|   57020|       11|\n",
      "|   10230|       13|\n",
      "|   11500|       12|\n",
      "|   61250|       13|\n",
      "|     580|       14|\n",
      "|   24200|        9|\n",
      "|   27030|        6|\n",
      "|   33550|       14|\n",
      "|   35950|        7|\n",
      "|   45030|       19|\n",
      "|   46030|        8|\n",
      "|   11520|        6|\n",
      "|   14770|        8|\n",
      "|   44630|       11|\n",
      "|   64170|        9|\n",
      "|   75500|       13|\n",
      "|   65820|       31|\n",
      "|   66800|       12|\n",
      "|   70460|       12|\n",
      "|   70850|        9|\n",
      "+--------+---------+\n",
      "only showing top 20 rows\n",
      "\n"
     ]
    },
    {
     "name": "stderr",
     "output_type": "stream",
     "text": [
      "                                                                                \r"
     ]
    }
   ],
   "source": [
    "more_5_ans_df.show()"
   ]
  },
  {
   "cell_type": "code",
   "execution_count": 11,
   "metadata": {},
   "outputs": [
    {
     "name": "stderr",
     "output_type": "stream",
     "text": [
      "                                                                                \r"
     ]
    }
   ],
   "source": [
    "spark.sql('CREATE DATABASE IF NOT EXISTS MY_DB')\n",
    "spark.sql('USE MY_DB')\n",
    "\n",
    "question_df.coalesce(1).write \\\n",
    "    .bucketBy(3,\"Id\") \\\n",
    "    .mode('overwrite') \\\n",
    "    .saveAsTable('MY_DB.questions')"
   ]
  },
  {
   "cell_type": "code",
   "execution_count": 12,
   "metadata": {},
   "outputs": [],
   "source": [
    "bucket_questions = spark.read.table('MY_DB.questions')"
   ]
  },
  {
   "cell_type": "code",
   "execution_count": 17,
   "metadata": {},
   "outputs": [],
   "source": [
    "spark.conf.set('spark.sql.autoBroadcastJoinThreshold',-1)\n",
    "join_expr = bucket_questions.Id == more_5_ans_df.ParentId\n",
    "join_df = bucket_questions.join(more_5_ans_df,join_expr,'inner')"
   ]
  },
  {
   "cell_type": "code",
   "execution_count": 18,
   "metadata": {},
   "outputs": [
    {
     "name": "stderr",
     "output_type": "stream",
     "text": [
      "[Stage 7:=====================================================>   (16 + 1) / 17]\r"
     ]
    },
    {
     "name": "stdout",
     "output_type": "stream",
     "text": [
      "+--------------------+----------+------------+----+-----------+-----+--------------------+--------------------+--------+---------+\n",
      "|                Body|ClosedDate|CreationDate|  Id|OwnerUserId|Score|               Title|                 _id|ParentId|count_ans|\n",
      "+--------------------+----------+------------+----+-----------+-----+--------------------+--------------------+--------+---------+\n",
      "|<p>This is someth...|      null|  2008-08-01| 180|    2089740|   53|Function for crea...|{627a9579f3cf4a44...|     180|        9|\n",
      "|<p>I have a littl...|      null|  2008-08-01| 260|         91|   49|Adding scripting ...|{627a9579f3cf4a44...|     260|        9|\n",
      "|<p>I am working o...|      null|  2008-08-02| 330|         63|   29|Should I use nest...|{627a9579f3cf4a44...|     330|       10|\n",
      "|<p>I wonder how y...|      null|  2008-08-02| 580|         91|   21|Deploying SQL Ser...|{627a9579f3cf4a44...|     580|       14|\n",
      "|<p>I would like t...|      null|  2008-08-03| 650|        143|   79|Automatically upd...|{627a9579f3cf4a44...|     650|        6|\n",
      "|<p>What's the sim...|      null|  2008-08-04| 930|        245|   28|How do I connect ...|{627a9579f3cf4a44...|     930|        7|\n",
      "|<p>I'm looking fo...|      null|  2008-08-04|1040|        254|   42|How do I delete a...|{627a9579f3cf4a44...|    1040|        7|\n",
      "|<p>I am using CCN...|      null|  2008-08-04|1160|        120|   36|Use SVN Revision ...|{627a9579f3cf4a44...|    1160|       12|\n",
      "|<p>I am using MSB...|      null|  2008-08-04|1300|         91|   23|Is nAnt still sup...|{627a9579f3cf4a44...|    1300|        7|\n",
      "|<p>I'm setting up...|      null|  2008-08-04|1390|         60|   18|Is Windows Server...|{627a9579f3cf4a44...|    1390|        6|\n",
      "|<p>If I'm adding ...|      null|  2008-08-04|1610|        328|   63|Can I logically r...|{627a9579f3cf4a44...|    1610|        8|\n",
      "|<p>Getting back i...|      null|  2008-08-05|1760|        234|   51|.NET Unit Testing...|{627a9579f3cf4a44...|    1760|       12|\n",
      "|<p>PostgreSQL is ...|      null|  2008-08-05|1970|        116|   10|What language do ...|{627a9579f3cf4a44...|    1970|        8|\n",
      "|<p>I want to get ...|      null|  2008-08-05|2120|        383|   77|Convert HashBytes...|{627a9579f3cf4a44...|    2120|        7|\n",
      "|<P>I want to be a...|      null|  2008-08-05|2300|        193|   10|How do I traverse...|{627a9579f3cf4a44...|    2300|        6|\n",
      "|<p>How do you dis...|      null|  2008-08-05|2530|        307| 1614|How do you disabl...|{627a9579f3cf4a44...|    2530|       38|\n",
      "|<p>A quick glance...|      null|  2008-08-05|2550|        308|   16|What are effectiv...|{627a9579f3cf4a44...|    2550|        7|\n",
      "|<p>I just found /...|2012-02-22|  2008-08-05|2630|         17|   14|What are your fav...|{627a9579f3cf4a44...|    2630|       13|\n",
      "|<p>I'm wondering ...|      null|  2008-08-05|2750|        435|    7|Data verification...|{627a9579f3cf4a44...|    2750|        8|\n",
      "|<p>How do I page ...|      null|  2008-08-05|2840|        383|   32|Paging SQL Server...|{627a9579f3cf4a44...|    2840|        6|\n",
      "+--------------------+----------+------------+----+-----------+-----+--------------------+--------------------+--------+---------+\n",
      "only showing top 20 rows\n",
      "\n"
     ]
    },
    {
     "name": "stderr",
     "output_type": "stream",
     "text": [
      "                                                                                \r"
     ]
    }
   ],
   "source": [
    "join_df.sort(col('Id').asc()).show()"
   ]
  },
  {
   "cell_type": "code",
   "execution_count": 36,
   "metadata": {},
   "outputs": [],
   "source": [
    "# 9. (Nâng cao) Yêu cầu 6: Tìm các Active User\n",
    "# list users >50 câu trả lời:\n",
    "ans_over_50 = answers_df.select('OwnerUserId','ParentId')\n",
    "ans_over_50 = ans_over_50.groupBy('OwnerUserId').agg(f.count('ParentId').alias('count_ans'))\n",
    "ans_over_50 = ans_over_50.filter(ans_over_50.count_ans > 50)"
   ]
  },
  {
   "cell_type": "code",
   "execution_count": 37,
   "metadata": {},
   "outputs": [
    {
     "name": "stderr",
     "output_type": "stream",
     "text": [
      "[Stage 45:=================================================>      (24 + 3) / 27]\r"
     ]
    },
    {
     "name": "stdout",
     "output_type": "stream",
     "text": [
      "+-----------+---------+\n",
      "|OwnerUserId|count_ans|\n",
      "+-----------+---------+\n",
      "|      17389|      169|\n",
      "|      14148|      100|\n",
      "|      17028|      103|\n",
      "|       2525|       76|\n",
      "|      20481|       77|\n",
      "|      14660|      113|\n",
      "|      31317|       54|\n",
      "|      22364|       64|\n",
      "|      16391|       54|\n",
      "|      13313|       79|\n",
      "|      16800|       85|\n",
      "|       4725|      221|\n",
      "|      12943|      117|\n",
      "|       3043|      521|\n",
      "|      25324|      207|\n",
      "|       1175|       61|\n",
      "|      12030|      231|\n",
      "|       8123|       58|\n",
      "|      12725|      161|\n",
      "|      12711|      370|\n",
      "+-----------+---------+\n",
      "only showing top 20 rows\n",
      "\n"
     ]
    },
    {
     "name": "stderr",
     "output_type": "stream",
     "text": [
      "                                                                                \r"
     ]
    }
   ],
   "source": [
    "ans_over_50.show()"
   ]
  },
  {
   "cell_type": "code",
   "execution_count": 24,
   "metadata": {},
   "outputs": [],
   "source": [
    "# list users có tổng số điểm đạt được khi trả lời lớn hơn 500\n",
    "score_over_500 = answers_df.select('OwnerUserId','Score')\n",
    "score_over_500 = score_over_500.groupBy('OwnerUserId').agg(f.sum('score').alias('sum_score'))\n",
    "score_over_500 = score_over_500.filter(score_over_500.sum_score > 500)"
   ]
  },
  {
   "cell_type": "code",
   "execution_count": 25,
   "metadata": {},
   "outputs": [
    {
     "name": "stderr",
     "output_type": "stream",
     "text": [
      "[Stage 18:===================================================>    (25 + 2) / 27]\r"
     ]
    },
    {
     "name": "stdout",
     "output_type": "stream",
     "text": [
      "+-----------+---------+\n",
      "|OwnerUserId|sum_score|\n",
      "+-----------+---------+\n",
      "|      17389|      549|\n",
      "|      18529|      612|\n",
      "|      20789|     1007|\n",
      "|      21632|     1414|\n",
      "|       2238|      655|\n",
      "|      23303|      793|\n",
      "|      25507|      512|\n",
      "|       4725|     1004|\n",
      "|       1199|      820|\n",
      "|      34509|     3089|\n",
      "|      20471|      521|\n",
      "|       3043|     2415|\n",
      "|       5597|      688|\n",
      "|      25324|      614|\n",
      "|       9450|      619|\n",
      "|      12030|      606|\n",
      "|       8123|      700|\n",
      "|      12725|      764|\n",
      "|      12711|     1822|\n",
      "|      12597|     2186|\n",
      "+-----------+---------+\n",
      "only showing top 20 rows\n",
      "\n"
     ]
    },
    {
     "name": "stderr",
     "output_type": "stream",
     "text": [
      "                                                                                \r"
     ]
    }
   ],
   "source": [
    "score_over_500.show()"
   ]
  },
  {
   "cell_type": "code",
   "execution_count": 30,
   "metadata": {},
   "outputs": [],
   "source": [
    "# Có nhiều hơn 5 câu trả lời ngay trong ngày câu hỏi được tạo.\n",
    "spark.conf.set('spark.sql.autoBroadcastJoinThreshold',-1)\n",
    "join_expr_2 = (bucket_questions.Id == answers_df.ParentId,bucket_questions.CreationDate == answers_df.CreationDate)\n",
    "join_df_2 = bucket_questions.join(answers_df,join_expr,'inner').select(answers_df.OwnerUserId,bucket_questions.Id)"
   ]
  },
  {
   "cell_type": "code",
   "execution_count": 31,
   "metadata": {},
   "outputs": [
    {
     "name": "stderr",
     "output_type": "stream",
     "text": [
      "[Stage 32:===================================================>    (25 + 2) / 27]\r"
     ]
    },
    {
     "name": "stdout",
     "output_type": "stream",
     "text": [
      "+-----------+---+\n",
      "|OwnerUserId| Id|\n",
      "+-----------+---+\n",
      "|      12734|120|\n",
      "|         59|330|\n",
      "|        342|330|\n",
      "|        370|330|\n",
      "|      11521|330|\n",
      "|      12416|330|\n",
      "|      16434|330|\n",
      "|       null|330|\n",
      "|       9706|330|\n",
      "|      21242|330|\n",
      "|      13760|330|\n",
      "|         49|470|\n",
      "|         34|580|\n",
      "|        149|580|\n",
      "|        116|580|\n",
      "|        111|580|\n",
      "|         76|580|\n",
      "|        307|580|\n",
      "|         26|580|\n",
      "|       1219|580|\n",
      "+-----------+---+\n",
      "only showing top 20 rows\n",
      "\n"
     ]
    },
    {
     "name": "stderr",
     "output_type": "stream",
     "text": [
      "                                                                                \r"
     ]
    }
   ],
   "source": [
    "join_df_2.show()"
   ]
  },
  {
   "cell_type": "code",
   "execution_count": 32,
   "metadata": {},
   "outputs": [],
   "source": [
    "over_5_aday = join_df_2.groupBy('OwnerUserId').agg(f.count('Id').alias('count_ans'))\n",
    "over_5_aday = over_5_aday.filter(over_5_aday.count_ans > 5)"
   ]
  },
  {
   "cell_type": "code",
   "execution_count": 33,
   "metadata": {},
   "outputs": [
    {
     "name": "stderr",
     "output_type": "stream",
     "text": [
      "[Stage 40:>                                                         (0 + 3) / 3]\r"
     ]
    },
    {
     "name": "stdout",
     "output_type": "stream",
     "text": [
      "+-----------+---------+\n",
      "|OwnerUserId|count_ans|\n",
      "+-----------+---------+\n",
      "|      33412|        7|\n",
      "|      18866|       10|\n",
      "|      22346|        6|\n",
      "|      25462|        6|\n",
      "|     427387|        7|\n",
      "|      20382|       41|\n",
      "|      13285|       13|\n",
      "|      17389|      169|\n",
      "|      20135|       19|\n",
      "|     367456|      423|\n",
      "|      23571|        7|\n",
      "|     336508|       52|\n",
      "|     718922|       23|\n",
      "|      55283|       10|\n",
      "|      62985|       10|\n",
      "|      53963|        7|\n",
      "|       9465|       31|\n",
      "|      64121|       27|\n",
      "|      74757|      137|\n",
      "|       1088|       42|\n",
      "+-----------+---------+\n",
      "only showing top 20 rows\n",
      "\n"
     ]
    },
    {
     "name": "stderr",
     "output_type": "stream",
     "text": [
      "                                                                                \r"
     ]
    }
   ],
   "source": [
    "over_5_aday.show()"
   ]
  },
  {
   "cell_type": "code",
   "execution_count": 38,
   "metadata": {},
   "outputs": [],
   "source": [
    "user_1 = ans_over_50.select('OwnerUserId')\n",
    "user_2 = score_over_500.select('OwnerUserId')\n",
    "user_3 = over_5_aday.select('OwnerUserId')\n",
    "result = user_1.union(user_2).union(user_3)"
   ]
  },
  {
   "cell_type": "code",
   "execution_count": 40,
   "metadata": {},
   "outputs": [
    {
     "name": "stderr",
     "output_type": "stream",
     "text": [
      "[Stage 73:======================================>                   (6 + 3) / 9]\r"
     ]
    },
    {
     "name": "stdout",
     "output_type": "stream",
     "text": [
      "+-----------+\n",
      "|OwnerUserId|\n",
      "+-----------+\n",
      "|      17389|\n",
      "|      74757|\n",
      "|      91299|\n",
      "|     175201|\n",
      "|     230513|\n",
      "|      15619|\n",
      "|     336508|\n",
      "|     327563|\n",
      "|     244128|\n",
      "|     402253|\n",
      "|     367456|\n",
      "|     477127|\n",
      "|     479863|\n",
      "|     507519|\n",
      "|     520612|\n",
      "|     544198|\n",
      "|     418413|\n",
      "|     720912|\n",
      "|     751090|\n",
      "|     247985|\n",
      "+-----------+\n",
      "only showing top 20 rows\n",
      "\n"
     ]
    },
    {
     "name": "stderr",
     "output_type": "stream",
     "text": [
      "                                                                                \r"
     ]
    }
   ],
   "source": [
    "result.distinct().show()"
   ]
  },
  {
   "cell_type": "code",
   "execution_count": null,
   "metadata": {},
   "outputs": [],
   "source": []
  }
 ],
 "metadata": {
  "interpreter": {
   "hash": "31f2aee4e71d21fbe5cf8b01ff0e069b9275f58929596ceb00d14d90e3e16cd6"
  },
  "kernelspec": {
   "display_name": "Python 3.8.2 64-bit",
   "language": "python",
   "name": "python3"
  },
  "language_info": {
   "codemirror_mode": {
    "name": "ipython",
    "version": 3
   },
   "file_extension": ".py",
   "mimetype": "text/x-python",
   "name": "python",
   "nbconvert_exporter": "python",
   "pygments_lexer": "ipython3",
   "version": "3.8.2"
  },
  "orig_nbformat": 4
 },
 "nbformat": 4,
 "nbformat_minor": 2
}
